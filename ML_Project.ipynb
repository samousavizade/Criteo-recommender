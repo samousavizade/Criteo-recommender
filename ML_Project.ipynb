{
 "cells": [
  {
   "cell_type": "markdown",
   "metadata": {
    "id": "EJbBDGqxkqHO"
   },
   "source": [
    "<div align=center>\n",
    "\t\t\n",
    "<p></p>\n",
    "<p></p>\n",
    "<font size=5>\n",
    "In the Name of God\n",
    "<font/>\n",
    "<p></p>\n",
    " <br/>\n",
    "    <br/>\n",
    "    <br/>\n",
    "<font color=#FF7500>\n",
    "Sharif University of Technology - Departmenet of Computer Engineering\n",
    "</font>\n",
    "<p></p>\n",
    "<font color=blue>\n",
    "Machine Learning - Dr. Abbas Hosseini\n",
    "</font>\n",
    "<br/>\n",
    "<br/>\n",
    "Fall 2021\n",
    "\n",
    "</div>\n",
    "\n",
    "<hr/>\n",
    "\t\t<div align=center>\n",
    "\t\t    <font color=red size=6>\n",
    "\t\t\t    <br />\n",
    "Project\n",
    "            \t<br/>\n",
    "\t\t\t</font>\n",
    "<font size=4>\n",
    "\t\t\t<br/>\n",
    "      Amin Meghrazi<br/>\n",
    "      Seyed Alireza Mousavizade<br/>\n",
    "      Yashar Zoroufchi Banisi\n",
    "</font>\n",
    "    </div>"
   ]
  },
  {
   "cell_type": "markdown",
   "metadata": {
    "id": "NPJx5dQes1cu"
   },
   "source": [
    "# Libraries and Packages"
   ]
  },
  {
   "cell_type": "code",
   "execution_count": 17,
   "metadata": {
    "colab": {
     "base_uri": "https://localhost:8080/"
    },
    "id": "XCoCXUa5Nxde",
    "outputId": "43ce6903-301c-42d5-9bff-98198b680ace"
   },
   "outputs": [],
   "source": [
    "import numpy as np\n",
    "import pandas as pd\n",
    "\n",
    "import matplotlib.pyplot as plt\n",
    "import seaborn as sns\n",
    "\n",
    "# from google.colab import drive\n",
    "\n",
    "# drive.mount('/content/drive')\n"
   ]
  },
  {
   "cell_type": "markdown",
   "metadata": {
    "id": "zELmjEtEtoyR"
   },
   "source": [
    "# Loading Training Dataset"
   ]
  },
  {
   "cell_type": "code",
   "execution_count": 18,
   "metadata": {
    "colab": {
     "base_uri": "https://localhost:8080/",
     "height": 357
    },
    "id": "2mp--ocpty2G",
    "outputId": "56209510-6b18-4dd2-969f-b1b74e168499"
   },
   "outputs": [
    {
     "data": {
      "text/plain": "   Sale  SalesAmountInEuro  time_delay_for_conversion      click_timestamp  \\\n0     0               -1.0                         -1  2020-08-04 04:07:56   \n1     0               -1.0                         -1  2020-08-04 01:47:40   \n2     0               -1.0                         -1  2020-08-04 16:54:31   \n3     0               -1.0                         -1  2020-08-03 20:34:28   \n4     0               -1.0                         -1  2020-08-03 20:54:17   \n\n   nb_clicks_1week  product_price                 product_age_group  \\\n0               -1            0.0                                -1   \n1               -1            0.0                                -1   \n2               -1            0.0  4C90FD52FC53D2C1C205844CB69575AB   \n3               -1            0.0                                -1   \n4             1064            0.0  4C90FD52FC53D2C1C205844CB69575AB   \n\n                        device_type audience_id  \\\n0  7E56C27BFF0305E788DA55A029EC4988          -1   \n1  7E56C27BFF0305E788DA55A029EC4988          -1   \n2  FF2C446555E3822B0E0FC3406116E86D          -1   \n3  D7D1FB49049702BF6338894757E0D959          -1   \n4  7E56C27BFF0305E788DA55A029EC4988          -1   \n\n                     product_gender  ...               product_category(3)  \\\n0                                -1  ...                                -1   \n1                                -1  ...                                -1   \n2  C45A9AC6D102ACAEEDF0D6F78636D84A  ...                                -1   \n3                                -1  ...                                -1   \n4  1B491180398E2F0390E6A588B3BCE291  ...  1E629AECC2FB9BEF43331CBE8F2D7C08   \n\n                product_category(4) product_category(5) product_category(6)  \\\n0                                -1                  -1                  -1   \n1                                -1                  -1                  -1   \n2                                -1                  -1                  -1   \n3                                -1                  -1                  -1   \n4  341C9BD18A3277E6B104CAFC177DE796                  -1                  -1   \n\n  product_category(7)                   product_country  \\\n0                  -1  57A1D462A03BD076E029CF9310C11FC5   \n1                  -1  57A1D462A03BD076E029CF9310C11FC5   \n2                  -1  2AC62132FBCFA093B9426894A4BC6278   \n3                  -1  57A1D462A03BD076E029CF9310C11FC5   \n4                  -1  989EEF92F2A525DD896557425EA7C4C7   \n\n                         product_id  \\\n0  B69E439E41E0BEAD764ABF16D7FD96C9   \n1  404D3D9D03297504F3509032DCFA02F0   \n2  B09E51338E0EED59C5A859B13631C370   \n3  080614393A57816D7A655695E2DBE728   \n4  350271BAFD7C7AAF6FB1424CF3DD4827   \n\n                                       product_title  \\\n0                                                 -1   \n1                                                 -1   \n2  3DF2BEDE6A8FDFA7F97B97FFF6EF38CC 516EE9C34B839...   \n3                                                 -1   \n4  097C90F8BF5398AC7C486804F0801DEE E09E084DB8937...   \n\n                         partner_id                           user_id  \n0  E3DDEB04F8AFF944B11943BB57D2F620  5E2C678F6586B67F61A377E1534E01FC  \n1  E3DDEB04F8AFF944B11943BB57D2F620  E8247702C0DD294E0AE6B5B5E2F9E810  \n2  12E43E51784BDE3CB9E0EF6310A7D5C5  9FD001258907F541D497040C64383696  \n3  E3DDEB04F8AFF944B11943BB57D2F620  225741ACF2DBB2E5948268F5D5D352E6  \n4  F0FD783189F55BAFC331AD347EAE6863  160A90377E54124D0BD31DB6735F0B33  \n\n[5 rows x 23 columns]",
      "text/html": "<div>\n<style scoped>\n    .dataframe tbody tr th:only-of-type {\n        vertical-align: middle;\n    }\n\n    .dataframe tbody tr th {\n        vertical-align: top;\n    }\n\n    .dataframe thead th {\n        text-align: right;\n    }\n</style>\n<table border=\"1\" class=\"dataframe\">\n  <thead>\n    <tr style=\"text-align: right;\">\n      <th></th>\n      <th>Sale</th>\n      <th>SalesAmountInEuro</th>\n      <th>time_delay_for_conversion</th>\n      <th>click_timestamp</th>\n      <th>nb_clicks_1week</th>\n      <th>product_price</th>\n      <th>product_age_group</th>\n      <th>device_type</th>\n      <th>audience_id</th>\n      <th>product_gender</th>\n      <th>...</th>\n      <th>product_category(3)</th>\n      <th>product_category(4)</th>\n      <th>product_category(5)</th>\n      <th>product_category(6)</th>\n      <th>product_category(7)</th>\n      <th>product_country</th>\n      <th>product_id</th>\n      <th>product_title</th>\n      <th>partner_id</th>\n      <th>user_id</th>\n    </tr>\n  </thead>\n  <tbody>\n    <tr>\n      <th>0</th>\n      <td>0</td>\n      <td>-1.0</td>\n      <td>-1</td>\n      <td>2020-08-04 04:07:56</td>\n      <td>-1</td>\n      <td>0.0</td>\n      <td>-1</td>\n      <td>7E56C27BFF0305E788DA55A029EC4988</td>\n      <td>-1</td>\n      <td>-1</td>\n      <td>...</td>\n      <td>-1</td>\n      <td>-1</td>\n      <td>-1</td>\n      <td>-1</td>\n      <td>-1</td>\n      <td>57A1D462A03BD076E029CF9310C11FC5</td>\n      <td>B69E439E41E0BEAD764ABF16D7FD96C9</td>\n      <td>-1</td>\n      <td>E3DDEB04F8AFF944B11943BB57D2F620</td>\n      <td>5E2C678F6586B67F61A377E1534E01FC</td>\n    </tr>\n    <tr>\n      <th>1</th>\n      <td>0</td>\n      <td>-1.0</td>\n      <td>-1</td>\n      <td>2020-08-04 01:47:40</td>\n      <td>-1</td>\n      <td>0.0</td>\n      <td>-1</td>\n      <td>7E56C27BFF0305E788DA55A029EC4988</td>\n      <td>-1</td>\n      <td>-1</td>\n      <td>...</td>\n      <td>-1</td>\n      <td>-1</td>\n      <td>-1</td>\n      <td>-1</td>\n      <td>-1</td>\n      <td>57A1D462A03BD076E029CF9310C11FC5</td>\n      <td>404D3D9D03297504F3509032DCFA02F0</td>\n      <td>-1</td>\n      <td>E3DDEB04F8AFF944B11943BB57D2F620</td>\n      <td>E8247702C0DD294E0AE6B5B5E2F9E810</td>\n    </tr>\n    <tr>\n      <th>2</th>\n      <td>0</td>\n      <td>-1.0</td>\n      <td>-1</td>\n      <td>2020-08-04 16:54:31</td>\n      <td>-1</td>\n      <td>0.0</td>\n      <td>4C90FD52FC53D2C1C205844CB69575AB</td>\n      <td>FF2C446555E3822B0E0FC3406116E86D</td>\n      <td>-1</td>\n      <td>C45A9AC6D102ACAEEDF0D6F78636D84A</td>\n      <td>...</td>\n      <td>-1</td>\n      <td>-1</td>\n      <td>-1</td>\n      <td>-1</td>\n      <td>-1</td>\n      <td>2AC62132FBCFA093B9426894A4BC6278</td>\n      <td>B09E51338E0EED59C5A859B13631C370</td>\n      <td>3DF2BEDE6A8FDFA7F97B97FFF6EF38CC 516EE9C34B839...</td>\n      <td>12E43E51784BDE3CB9E0EF6310A7D5C5</td>\n      <td>9FD001258907F541D497040C64383696</td>\n    </tr>\n    <tr>\n      <th>3</th>\n      <td>0</td>\n      <td>-1.0</td>\n      <td>-1</td>\n      <td>2020-08-03 20:34:28</td>\n      <td>-1</td>\n      <td>0.0</td>\n      <td>-1</td>\n      <td>D7D1FB49049702BF6338894757E0D959</td>\n      <td>-1</td>\n      <td>-1</td>\n      <td>...</td>\n      <td>-1</td>\n      <td>-1</td>\n      <td>-1</td>\n      <td>-1</td>\n      <td>-1</td>\n      <td>57A1D462A03BD076E029CF9310C11FC5</td>\n      <td>080614393A57816D7A655695E2DBE728</td>\n      <td>-1</td>\n      <td>E3DDEB04F8AFF944B11943BB57D2F620</td>\n      <td>225741ACF2DBB2E5948268F5D5D352E6</td>\n    </tr>\n    <tr>\n      <th>4</th>\n      <td>0</td>\n      <td>-1.0</td>\n      <td>-1</td>\n      <td>2020-08-03 20:54:17</td>\n      <td>1064</td>\n      <td>0.0</td>\n      <td>4C90FD52FC53D2C1C205844CB69575AB</td>\n      <td>7E56C27BFF0305E788DA55A029EC4988</td>\n      <td>-1</td>\n      <td>1B491180398E2F0390E6A588B3BCE291</td>\n      <td>...</td>\n      <td>1E629AECC2FB9BEF43331CBE8F2D7C08</td>\n      <td>341C9BD18A3277E6B104CAFC177DE796</td>\n      <td>-1</td>\n      <td>-1</td>\n      <td>-1</td>\n      <td>989EEF92F2A525DD896557425EA7C4C7</td>\n      <td>350271BAFD7C7AAF6FB1424CF3DD4827</td>\n      <td>097C90F8BF5398AC7C486804F0801DEE E09E084DB8937...</td>\n      <td>F0FD783189F55BAFC331AD347EAE6863</td>\n      <td>160A90377E54124D0BD31DB6735F0B33</td>\n    </tr>\n  </tbody>\n</table>\n<p>5 rows × 23 columns</p>\n</div>"
     },
     "execution_count": 18,
     "metadata": {},
     "output_type": "execute_result"
    }
   ],
   "source": [
    "# path = \"/content/drive/MyDrive/ML_dataset/train_dataset.csv\"\n",
    "path = 'myworks/train_dataset.csv'\n",
    "df = pd.read_csv(path)\n",
    "df.head()"
   ]
  },
  {
   "cell_type": "markdown",
   "metadata": {
    "id": "qWBlACmW-o83"
   },
   "source": [
    "# EDA"
   ]
  },
  {
   "cell_type": "markdown",
   "metadata": {
    "id": "lFrDINlz-rlO"
   },
   "source": [
    "## Getting Primarily Insight"
   ]
  },
  {
   "cell_type": "code",
   "execution_count": 19,
   "metadata": {
    "colab": {
     "base_uri": "https://localhost:8080/"
    },
    "id": "TVFTKJXDFJQP",
    "outputId": "e597bc90-cadb-4ed5-fe4f-f7f11c42f3ea"
   },
   "outputs": [
    {
     "data": {
      "text/plain": "(100000, 23)"
     },
     "execution_count": 19,
     "metadata": {},
     "output_type": "execute_result"
    }
   ],
   "source": [
    "df.shape"
   ]
  },
  {
   "cell_type": "code",
   "execution_count": 20,
   "metadata": {
    "colab": {
     "base_uri": "https://localhost:8080/"
    },
    "id": "ISr2fmWNgYAf",
    "outputId": "5feda48b-964e-43af-a799-33cef237028a"
   },
   "outputs": [
    {
     "data": {
      "text/plain": "Index(['Sale', 'SalesAmountInEuro', 'time_delay_for_conversion',\n       'click_timestamp', 'nb_clicks_1week', 'product_price',\n       'product_age_group', 'device_type', 'audience_id', 'product_gender',\n       'product_brand', 'product_category(1)', 'product_category(2)',\n       'product_category(3)', 'product_category(4)', 'product_category(5)',\n       'product_category(6)', 'product_category(7)', 'product_country',\n       'product_id', 'product_title', 'partner_id', 'user_id'],\n      dtype='object')"
     },
     "execution_count": 20,
     "metadata": {},
     "output_type": "execute_result"
    }
   ],
   "source": [
    "df.columns"
   ]
  },
  {
   "cell_type": "code",
   "execution_count": 21,
   "metadata": {
    "colab": {
     "base_uri": "https://localhost:8080/"
    },
    "id": "dmX9NiRSFuZk",
    "outputId": "4ff8df4b-349c-4cf1-ab06-7782ee965e3b"
   },
   "outputs": [
    {
     "data": {
      "text/plain": "Sale                             2\nSalesAmountInEuro             8932\ntime_delay_for_conversion     9208\nclick_timestamp              67045\nnb_clicks_1week               1138\nproduct_price                 4496\nproduct_age_group                9\ndevice_type                      4\naudience_id                   3182\nproduct_gender                  11\nproduct_brand                 4770\nproduct_category(1)             22\nproduct_category(2)            145\nproduct_category(3)            699\nproduct_category(4)            910\nproduct_category(5)            442\nproduct_category(6)             89\nproduct_category(7)              1\nproduct_country                 17\nproduct_id                   45447\nproduct_title                27695\npartner_id                     183\nuser_id                      96766\ndtype: int64"
     },
     "execution_count": 21,
     "metadata": {},
     "output_type": "execute_result"
    }
   ],
   "source": [
    "df.nunique(axis=0)\n"
   ]
  },
  {
   "cell_type": "markdown",
   "source": [
    "## Statistical Insight"
   ],
   "metadata": {
    "collapsed": false
   }
  },
  {
   "cell_type": "markdown",
   "source": [
    ">  #### Functions"
   ],
   "metadata": {
    "collapsed": false
   }
  },
  {
   "cell_type": "code",
   "execution_count": null,
   "outputs": [],
   "source": [
    "def get_numerical_categorical_columns(data):\n",
    "    numerical_columns_df = data.select_dtypes(include=np.number)\n",
    "    numerical_column_names = numerical_columns_df.columns.tolist()\n",
    "\n",
    "    column_types_df = pd.DataFrame(data.columns, columns=['column name'])\n",
    "\n",
    "    column_types_df['numerical or categorical'] = np.where(column_types_df['column name'].isin(numerical_column_names),\n",
    "                                                           'numerical', 'categorical')\n",
    "\n",
    "    num_columns = column_types_df[column_types_df['numerical or categorical'] == 'numerical']['column name']\n",
    "    cat_columns = column_types_df[column_types_df['numerical or categorical'] == 'categorical']['column name']\n",
    "\n",
    "    return num_columns, cat_columns\n",
    "\n",
    "\n",
    "# Show statistical info for numeric and categorical columns\n",
    "def numerical_columns_statistical_info(numerical_columns_df):\n",
    "    return numerical_columns_df.describe().append(\n",
    "        pd.Series(numerical_columns_df.isnull().sum(), name='n of missing values')\n",
    "    ).append(\n",
    "        pd.Series(numerical_columns_df.isnull().sum() / len(numerical_columns_df * 100), name='p of missing values')\n",
    "    )\n",
    "\n",
    "\n",
    "def categorical_columns_statistical_info(categorical_columns_df):\n",
    "    values_count_df: pd.DataFrame = categorical_columns_df.apply(pd.Series.value_counts)\n",
    "    values_count_df = values_count_df.fillna('-')\n",
    "\n",
    "    values_count_df.loc['n of not exist values'] = categorical_columns_df.isnull().sum()\n",
    "    values_count_df.loc['p of not exist values'] = categorical_columns_df.isnull().sum() / len(categorical_columns_df) * 100\n",
    "    values_count_df.loc['n of unique values'] = categorical_columns_df.nunique()\n",
    "\n",
    "    return values_count_df"
   ],
   "metadata": {
    "collapsed": false,
    "pycharm": {
     "name": "#%%\n"
    }
   }
  },
  {
   "cell_type": "markdown",
   "source": [
    ">  #### Statistics"
   ],
   "metadata": {
    "collapsed": false
   }
  },
  {
   "cell_type": "code",
   "execution_count": 22,
   "metadata": {
    "colab": {
     "base_uri": "https://localhost:8080/",
     "height": 364
    },
    "id": "J3btxKPHZO5-",
    "outputId": "396b14d1-063c-4496-8249-3e33dc8d172d"
   },
   "outputs": [
    {
     "data": {
      "text/plain": "                Sale  SalesAmountInEuro  time_delay_for_conversion  \\\ncount  100000.000000      100000.000000               1.000000e+05   \nmean        0.136610          15.124148               4.372428e+04   \nstd         0.343437         147.248702               2.434087e+05   \nmin         0.000000          -1.000000              -1.000000e+00   \n25%         0.000000          -1.000000              -1.000000e+00   \n50%         0.000000          -1.000000              -1.000000e+00   \n75%         0.000000          -1.000000              -1.000000e+00   \nmax         1.000000       23691.224980               2.554631e+06   \n\n       nb_clicks_1week  product_price  product_category(7)  \ncount    100000.000000  100000.000000             100000.0  \nmean        236.545830      10.929187                 -1.0  \nstd        1153.037285      65.574247                  0.0  \nmin          -1.000000       0.000000                 -1.0  \n25%          -1.000000       0.000000                 -1.0  \n50%           0.000000       0.000000                 -1.0  \n75%          49.000000       0.000000                 -1.0  \nmax       25390.000000    3928.000000                 -1.0  ",
      "text/html": "<div>\n<style scoped>\n    .dataframe tbody tr th:only-of-type {\n        vertical-align: middle;\n    }\n\n    .dataframe tbody tr th {\n        vertical-align: top;\n    }\n\n    .dataframe thead th {\n        text-align: right;\n    }\n</style>\n<table border=\"1\" class=\"dataframe\">\n  <thead>\n    <tr style=\"text-align: right;\">\n      <th></th>\n      <th>Sale</th>\n      <th>SalesAmountInEuro</th>\n      <th>time_delay_for_conversion</th>\n      <th>nb_clicks_1week</th>\n      <th>product_price</th>\n      <th>product_category(7)</th>\n    </tr>\n  </thead>\n  <tbody>\n    <tr>\n      <th>count</th>\n      <td>100000.000000</td>\n      <td>100000.000000</td>\n      <td>1.000000e+05</td>\n      <td>100000.000000</td>\n      <td>100000.000000</td>\n      <td>100000.0</td>\n    </tr>\n    <tr>\n      <th>mean</th>\n      <td>0.136610</td>\n      <td>15.124148</td>\n      <td>4.372428e+04</td>\n      <td>236.545830</td>\n      <td>10.929187</td>\n      <td>-1.0</td>\n    </tr>\n    <tr>\n      <th>std</th>\n      <td>0.343437</td>\n      <td>147.248702</td>\n      <td>2.434087e+05</td>\n      <td>1153.037285</td>\n      <td>65.574247</td>\n      <td>0.0</td>\n    </tr>\n    <tr>\n      <th>min</th>\n      <td>0.000000</td>\n      <td>-1.000000</td>\n      <td>-1.000000e+00</td>\n      <td>-1.000000</td>\n      <td>0.000000</td>\n      <td>-1.0</td>\n    </tr>\n    <tr>\n      <th>25%</th>\n      <td>0.000000</td>\n      <td>-1.000000</td>\n      <td>-1.000000e+00</td>\n      <td>-1.000000</td>\n      <td>0.000000</td>\n      <td>-1.0</td>\n    </tr>\n    <tr>\n      <th>50%</th>\n      <td>0.000000</td>\n      <td>-1.000000</td>\n      <td>-1.000000e+00</td>\n      <td>0.000000</td>\n      <td>0.000000</td>\n      <td>-1.0</td>\n    </tr>\n    <tr>\n      <th>75%</th>\n      <td>0.000000</td>\n      <td>-1.000000</td>\n      <td>-1.000000e+00</td>\n      <td>49.000000</td>\n      <td>0.000000</td>\n      <td>-1.0</td>\n    </tr>\n    <tr>\n      <th>max</th>\n      <td>1.000000</td>\n      <td>23691.224980</td>\n      <td>2.554631e+06</td>\n      <td>25390.000000</td>\n      <td>3928.000000</td>\n      <td>-1.0</td>\n    </tr>\n  </tbody>\n</table>\n</div>"
     },
     "execution_count": 22,
     "metadata": {},
     "output_type": "execute_result"
    }
   ],
   "source": [
    "stats = df.describe()\n",
    "numerical_columns, categorical_columns = get_numerical_categorical_columns(df)\n",
    "numerical_columns_stats = numerical_columns_statistical_info(df[numerical_columns.tolist()])\n",
    "categorical_columns_stats = categorical_columns_statistical_info(df[categorical_columns.tolist()])"
   ]
  },
  {
   "cell_type": "code",
   "execution_count": null,
   "outputs": [],
   "source": [
    "stats"
   ],
   "metadata": {
    "collapsed": false,
    "pycharm": {
     "name": "#%%\n"
    }
   }
  },
  {
   "cell_type": "code",
   "execution_count": null,
   "outputs": [],
   "source": [
    "numerical_columns_stats"
   ],
   "metadata": {
    "collapsed": false,
    "pycharm": {
     "name": "#%%\n"
    }
   }
  },
  {
   "cell_type": "code",
   "execution_count": null,
   "outputs": [],
   "source": [
    "categorical_columns_stats"
   ],
   "metadata": {
    "collapsed": false,
    "pycharm": {
     "name": "#%%\n"
    }
   }
  },
  {
   "cell_type": "markdown",
   "source": [
    "## Cleaning Dataset"
   ],
   "metadata": {
    "collapsed": false
   }
  },
  {
   "cell_type": "code",
   "execution_count": 24,
   "metadata": {
    "colab": {
     "base_uri": "https://localhost:8080/",
     "height": 1000
    },
    "id": "pRUR1qevUCCU",
    "outputId": "300222ed-1a16-4d31-a958-4c7bc4e8447e"
   },
   "outputs": [
    {
     "name": "stdout",
     "output_type": "stream",
     "text": [
      "['SalesAmountInEuro']\n"
     ]
    },
    {
     "data": {
      "text/plain": "       Sale  time_delay_for_conversion      click_timestamp  nb_clicks_1week  \\\n781       1                         -1  2020-08-04 04:19:22               -1   \n1741      1                         -1  2020-08-03 09:36:08               14   \n2537      1                         -1  2020-08-04 10:44:31             2233   \n7065      1                         -1  2020-08-03 07:58:44                0   \n7219      1                         -1  2020-08-03 14:39:58               -1   \n8229      1                         -1  2020-08-04 01:28:58                3   \n10925     1                         -1  2020-08-04 11:01:19               -1   \n11046     1                         -1  2020-08-04 02:18:37               -1   \n11620     1                         -1  2020-08-04 01:58:56               -1   \n16018     1                         -1  2020-08-04 03:33:46               73   \n23757     1                         -1  2020-08-03 20:55:04                0   \n24259     1                         -1  2020-08-04 07:47:03               13   \n24418     1                         -1  2020-08-03 21:41:19               -1   \n24885     1                         -1  2020-08-04 00:43:17               21   \n25085     1                         -1  2020-08-04 03:27:17               -1   \n25927     1                         -1  2020-08-03 19:48:45               91   \n27232     1                         -1  2020-08-04 04:52:57               -1   \n32061     1                         -1  2020-08-03 22:40:55                0   \n35920     1                         -1  2020-08-03 07:57:49              294   \n38791     1                         -1  2020-08-03 23:05:35               10   \n40672     1                         -1  2020-08-03 22:11:20               -1   \n41524     1                         -1  2020-08-04 16:18:11              634   \n43578     1                         -1  2020-08-03 23:02:37               -1   \n44877     1                         -1  2020-08-04 16:47:27               -1   \n45718     1                         -1  2020-08-04 04:15:16               -1   \n45919     1                         -1  2020-08-04 17:00:28               -1   \n51495     1                         -1  2020-08-03 07:32:09               -1   \n51721     1                         -1  2020-08-03 15:21:07               -1   \n56108     1                         -1  2020-08-04 01:48:17                3   \n56180     1                         -1  2020-08-03 15:12:52               -1   \n56234     1                         -1  2020-08-03 16:46:17               -1   \n59045     1                         -1  2020-08-04 02:24:28               -1   \n60390     1                         -1  2020-08-04 09:25:04               -1   \n62198     1                         -1  2020-08-04 02:29:37              190   \n64416     1                         -1  2020-08-04 16:18:06              305   \n64510     1                         -1  2020-08-04 16:43:18               -1   \n66307     1                         -1  2020-08-04 00:40:55                0   \n66947     1                         -1  2020-08-03 16:17:40               -1   \n67209     1                         -1  2020-08-04 03:25:10               73   \n70296     1                         -1  2020-08-04 02:42:16               11   \n70390     1                         -1  2020-08-03 21:55:49               15   \n73778     1                         -1  2020-08-04 16:01:09              153   \n76828     1                         -1  2020-08-04 00:30:29              165   \n80710     1                         -1  2020-08-04 02:21:38                0   \n80817     1                         -1  2020-08-04 07:36:08               74   \n82772     1                         -1  2020-08-03 19:43:06               21   \n83531     1                         -1  2020-08-03 14:59:21              160   \n85320     1                         -1  2020-08-03 17:39:38               -1   \n94263     1                         -1  2020-08-04 01:21:23                3   \n95793     1                         -1  2020-08-04 02:49:58               11   \n96333     1                         -1  2020-08-04 05:01:55                5   \n96918     1                         -1  2020-08-04 13:42:06               20   \n97144     1                         -1  2020-08-04 12:49:10               -1   \n97579     1                         -1  2020-08-04 05:55:45               86   \n99136     1                         -1  2020-08-03 15:07:54                6   \n\n       product_price                 product_age_group  \\\n781            58.33                                -1   \n1741           35.99  4C90FD52FC53D2C1C205844CB69575AB   \n2537           30.60                                -1   \n7065            0.00  88460293E9517D21E39AA889BD5AADC8   \n7219           10.00                                -1   \n8229           14.46                                -1   \n10925          22.99                                -1   \n11046           8.00                                -1   \n11620          16.00                                -1   \n16018         108.00  4C90FD52FC53D2C1C205844CB69575AB   \n23757          31.99  4C90FD52FC53D2C1C205844CB69575AB   \n24259         139.00  4C90FD52FC53D2C1C205844CB69575AB   \n24418           0.00                                -1   \n24885          10.75                                -1   \n25085          35.00                                -1   \n25927          14.08                                -1   \n27232           0.00                                -1   \n32061         109.71  4C90FD52FC53D2C1C205844CB69575AB   \n35920         163.89  4C90FD52FC53D2C1C205844CB69575AB   \n38791         206.00                                -1   \n40672         259.00                                -1   \n41524          24.99  4C90FD52FC53D2C1C205844CB69575AB   \n43578           1.99                                -1   \n44877           8.00                                -1   \n45718          30.92                                -1   \n45919           0.00                                -1   \n51495           1.00                                -1   \n51721           1.00                                -1   \n56108         229.90  4C90FD52FC53D2C1C205844CB69575AB   \n56180          24.96                                -1   \n56234           0.00                                -1   \n59045          69.99                                -1   \n60390           0.00                                -1   \n62198          12.60  E7BD5A29457B8E92582951B586319A9C   \n64416          74.19                                -1   \n64510           0.00                                -1   \n66307         119.99  4C90FD52FC53D2C1C205844CB69575AB   \n66947           0.00                                -1   \n67209          24.03                                -1   \n70296          10.04  921B36149E5B081FD24450BFE2CE4430   \n70390          29.08                                -1   \n73778          39.50  921B36149E5B081FD24450BFE2CE4430   \n76828         249.34                                -1   \n80710         104.74                                -1   \n80817          35.99  4C90FD52FC53D2C1C205844CB69575AB   \n82772          25.00  4C90FD52FC53D2C1C205844CB69575AB   \n83531         225.83                                -1   \n85320          23.00                                -1   \n94263          89.00  4C90FD52FC53D2C1C205844CB69575AB   \n95793           8.36  921B36149E5B081FD24450BFE2CE4430   \n96333          28.63                                -1   \n96918         119.90                                -1   \n97144          82.92                                -1   \n97579          31.50  4C90FD52FC53D2C1C205844CB69575AB   \n99136         299.90  4C90FD52FC53D2C1C205844CB69575AB   \n\n                            device_type                    product_gender  \\\n781    7E56C27BFF0305E788DA55A029EC4988                                -1   \n1741   7E56C27BFF0305E788DA55A029EC4988  C45A9AC6D102ACAEEDF0D6F78636D84A   \n2537   D7D1FB49049702BF6338894757E0D959                                -1   \n7065   7E56C27BFF0305E788DA55A029EC4988  1B491180398E2F0390E6A588B3BCE291   \n7219   D7D1FB49049702BF6338894757E0D959                                -1   \n8229   7E56C27BFF0305E788DA55A029EC4988                                -1   \n10925  7E56C27BFF0305E788DA55A029EC4988                                -1   \n11046  D7D1FB49049702BF6338894757E0D959                                -1   \n11620  D7D1FB49049702BF6338894757E0D959                                -1   \n16018  D7D1FB49049702BF6338894757E0D959  1B491180398E2F0390E6A588B3BCE291   \n23757  7E56C27BFF0305E788DA55A029EC4988  C45A9AC6D102ACAEEDF0D6F78636D84A   \n24259  D7D1FB49049702BF6338894757E0D959  1B491180398E2F0390E6A588B3BCE291   \n24418  D7D1FB49049702BF6338894757E0D959                                -1   \n24885  D7D1FB49049702BF6338894757E0D959                                -1   \n25085  D7D1FB49049702BF6338894757E0D959                                -1   \n25927  7E56C27BFF0305E788DA55A029EC4988                                -1   \n27232  D7D1FB49049702BF6338894757E0D959                                -1   \n32061  D7D1FB49049702BF6338894757E0D959  D7B42B0C4D807EF1C13F79948743E9DA   \n35920  D7D1FB49049702BF6338894757E0D959  A5D15FC386510762EC0DDFF54ABE6F94   \n38791  D7D1FB49049702BF6338894757E0D959                                -1   \n40672  7E56C27BFF0305E788DA55A029EC4988                                -1   \n41524  7E56C27BFF0305E788DA55A029EC4988  1B491180398E2F0390E6A588B3BCE291   \n43578  D7D1FB49049702BF6338894757E0D959                                -1   \n44877  D7D1FB49049702BF6338894757E0D959                                -1   \n45718  7E56C27BFF0305E788DA55A029EC4988                                -1   \n45919  7E56C27BFF0305E788DA55A029EC4988                                -1   \n51495  7E56C27BFF0305E788DA55A029EC4988                                -1   \n51721  D7D1FB49049702BF6338894757E0D959                                -1   \n56108  7E56C27BFF0305E788DA55A029EC4988  1B491180398E2F0390E6A588B3BCE291   \n56180  FF2C446555E3822B0E0FC3406116E86D                                -1   \n56234  D7D1FB49049702BF6338894757E0D959                                -1   \n59045  D7D1FB49049702BF6338894757E0D959                                -1   \n60390  D7D1FB49049702BF6338894757E0D959                                -1   \n62198  D7D1FB49049702BF6338894757E0D959  A5D15FC386510762EC0DDFF54ABE6F94   \n64416  D7D1FB49049702BF6338894757E0D959                                -1   \n64510  D7D1FB49049702BF6338894757E0D959                                -1   \n66307  D7D1FB49049702BF6338894757E0D959  C45A9AC6D102ACAEEDF0D6F78636D84A   \n66947  7E56C27BFF0305E788DA55A029EC4988                                -1   \n67209  7E56C27BFF0305E788DA55A029EC4988                                -1   \n70296  7E56C27BFF0305E788DA55A029EC4988  A5D15FC386510762EC0DDFF54ABE6F94   \n70390  7E56C27BFF0305E788DA55A029EC4988                                -1   \n73778  7E56C27BFF0305E788DA55A029EC4988  A5D15FC386510762EC0DDFF54ABE6F94   \n76828  FF2C446555E3822B0E0FC3406116E86D                                -1   \n80710  7E56C27BFF0305E788DA55A029EC4988                                -1   \n80817  FF2C446555E3822B0E0FC3406116E86D  1B491180398E2F0390E6A588B3BCE291   \n82772  FF2C446555E3822B0E0FC3406116E86D  1B491180398E2F0390E6A588B3BCE291   \n83531  7E56C27BFF0305E788DA55A029EC4988                                -1   \n85320  7E56C27BFF0305E788DA55A029EC4988                                -1   \n94263  D7D1FB49049702BF6338894757E0D959  1B491180398E2F0390E6A588B3BCE291   \n95793  7E56C27BFF0305E788DA55A029EC4988  A5D15FC386510762EC0DDFF54ABE6F94   \n96333  D7D1FB49049702BF6338894757E0D959                                -1   \n96918  7E56C27BFF0305E788DA55A029EC4988                                -1   \n97144  D7D1FB49049702BF6338894757E0D959                                -1   \n97579  7E56C27BFF0305E788DA55A029EC4988  1B491180398E2F0390E6A588B3BCE291   \n99136  7E56C27BFF0305E788DA55A029EC4988  1B491180398E2F0390E6A588B3BCE291   \n\n                          product_brand               product_category(1)  \\\n781                                  -1                                -1   \n1741   BFEEE5F4232E521C7A0E02E1984BDBF8  033E492229C2222EFAA16EE8A6462D8B   \n2537   9E0EAAF455B7E51AE375D9CA77041CE4  13C26D10258053889D75D9B9CA922EC7   \n7065   D544DD4C9E7F122F9299A06DCC827F2B  033E492229C2222EFAA16EE8A6462D8B   \n7219                                 -1                                -1   \n8229   51C55AEA8C66A76918733F7E6E5A0198  635623BABBB7DA2E072D8C339F606E15   \n10925                                -1                                -1   \n11046                                -1                                -1   \n11620                                -1                                -1   \n16018  1AD3068232C3FEC4BCB748225F7F54E0  033E492229C2222EFAA16EE8A6462D8B   \n23757  7388CCEB24DC7917AED6E4B266342A84  033E492229C2222EFAA16EE8A6462D8B   \n24259  E586CCCF242FDD79877874C4ABD5A2AE  033E492229C2222EFAA16EE8A6462D8B   \n24418                                -1                                -1   \n24885  5403D8923180FADDD0DB280DAC16E744  62D6A49514020FA0B2E434DB0B506005   \n25085                                -1                                -1   \n25927                                -1  B4B45C6CE5FC4DE45AB02974D8849DBD   \n27232                                -1                                -1   \n32061  AF987DFD50EA97717E6A0D8B2984DF66  033E492229C2222EFAA16EE8A6462D8B   \n35920                                -1  B4B45C6CE5FC4DE45AB02974D8849DBD   \n38791  AF8393D72184D72EC9D55D7C6B10DFD5  62D6A49514020FA0B2E434DB0B506005   \n40672                                -1                                -1   \n41524  8F18CEA7DF93B3926CA0978F35864E03  033E492229C2222EFAA16EE8A6462D8B   \n43578                                -1                                -1   \n44877                                -1                                -1   \n45718                                -1                                -1   \n45919                                -1                                -1   \n51495                                -1                                -1   \n51721                                -1                                -1   \n56108  7B77DCEDF23DCF7996D58C7BE859E365  033E492229C2222EFAA16EE8A6462D8B   \n56180                                -1                                -1   \n56234                                -1                                -1   \n59045                                -1                                -1   \n60390                                -1                                -1   \n62198  4B31DA8286F17ED3018BAB1C172F8124  EC997D43AC86A75D9B88A1051F86A67C   \n64416                                -1  62D6A49514020FA0B2E434DB0B506005   \n64510                                -1                                -1   \n66307  271B3C1DD6DC0D06C67B540F4257F6F7  033E492229C2222EFAA16EE8A6462D8B   \n66947                                -1                                -1   \n67209                                -1  7532B3FBAFEC164460C4ED6FEB0C022C   \n70296  67DA7719163A1E0C5D5D9F487B948090  B4B45C6CE5FC4DE45AB02974D8849DBD   \n70390                                -1  7F286560861764CCB93C90B7AA833949   \n73778  A22E951A8878419B87D272B693094495  E02400CDAD96905D88E932FE9B7D3552   \n76828                                -1  7F286560861764CCB93C90B7AA833949   \n80710                                -1  E02400CDAD96905D88E932FE9B7D3552   \n80817  2EAD40F255F9BBA39801F051EE138A8E  7F286560861764CCB93C90B7AA833949   \n82772  05F88AFBDD21B32DEF06CAFC314AAF49  033E492229C2222EFAA16EE8A6462D8B   \n83531                                -1  7F286560861764CCB93C90B7AA833949   \n85320                                -1                                -1   \n94263  B2E872D4A7815DCA14D3412EB78D3457  033E492229C2222EFAA16EE8A6462D8B   \n95793  67DA7719163A1E0C5D5D9F487B948090  B4B45C6CE5FC4DE45AB02974D8849DBD   \n96333                                -1  E02400CDAD96905D88E932FE9B7D3552   \n96918  6980438F56CD0C4082D5706FE1A2BD11  88CED8BA3AA711A20ACF8B1FC574F218   \n97144                                -1                                -1   \n97579  05F88AFBDD21B32DEF06CAFC314AAF49  033E492229C2222EFAA16EE8A6462D8B   \n99136  09D61FD4DFD439F271ABC38B7C4852F9  033E492229C2222EFAA16EE8A6462D8B   \n\n                    product_category(2)               product_category(3)  \\\n781                                  -1                                -1   \n1741   CD599E5A946D00A81A875E085F7EF1E8                                -1   \n2537   D8C555B86D5912C47B979FD96E6D802D  5925B8C370A05018573C8166FF63F634   \n7065   CD599E5A946D00A81A875E085F7EF1E8                                -1   \n7219                                 -1                                -1   \n8229   80DF9DD23FCDB4F869BD699276D0A677  C38F66E32790514C9A7EE57BBFB431CA   \n10925                                -1                                -1   \n11046                                -1                                -1   \n11620                                -1                                -1   \n16018  77FFC91A6157E50A0A114135F18BB1DB  80B4E93C8B7E12D7CF52D418D70FA5AD   \n23757  3DCF45B664023887F9F2DDA616853C50  8A34611349E42CD8232F1E6B9BC8C709   \n24259  77FFC91A6157E50A0A114135F18BB1DB  2E4ED2B95CEF7FD11B282CDFDD56CEA0   \n24418                                -1                                -1   \n24885  50FF54E71F635597F839D2428054DC0C  E024AD4AAD0BFC3DBC319351B1DA0A0A   \n25085                                -1                                -1   \n25927  A78952B21B4165ADA2189AE66887E2F1  30131E72F860C21850E0F2BB16B862DF   \n27232                                -1                                -1   \n32061  D28A87BAAF0922BEB3E8099E6E262237  AA4B14C4176A235370FAF604A5FEA467   \n35920  A78952B21B4165ADA2189AE66887E2F1  9C7227145F2E2BF297F8CB765C323019   \n38791  49C166361658D9ACF79C78FC97272B01  BCCC1BBBA27989E192D26A0DA25E448E   \n40672                                -1                                -1   \n41524  77FFC91A6157E50A0A114135F18BB1DB  FAE775DB79B7E40FB3E581B2755783A4   \n43578                                -1                                -1   \n44877                                -1                                -1   \n45718                                -1                                -1   \n45919                                -1                                -1   \n51495                                -1                                -1   \n51721                                -1                                -1   \n56108  CD599E5A946D00A81A875E085F7EF1E8                                -1   \n56180                                -1                                -1   \n56234                                -1                                -1   \n59045                                -1                                -1   \n60390                                -1                                -1   \n62198  1CA629F8F10B2541E08A1A994CDA0F1D  F791095E78AAC9F6A0C9D4948E6AA729   \n64416  41DF6386116137A19E7DBC07CE44C95A  0C794498732FC4833A4B7F29F8F072E3   \n64510                                -1                                -1   \n66307  CD599E5A946D00A81A875E085F7EF1E8                                -1   \n66947                                -1                                -1   \n67209  CF4A1E27D7961B7728CDCB3EE346BC36                                -1   \n70296  A78952B21B4165ADA2189AE66887E2F1  30131E72F860C21850E0F2BB16B862DF   \n70390  939A40D09BD05A13C32B381245670495  87E33E0563FFE783FB56D01E7E09E692   \n73778  4295BE0EC68D12EDB7D771310069C493  F65E84139E30EFFADA597CCFC9D654BA   \n76828  1F6AAFDE07FBA5DB92C77840C8E85736  C6563262839F52510505AD315C4DE1B1   \n80710  08D39006D3116AA1341D32F06499EA72  17D8257F946C29C31B2BDD955D8F4F48   \n80817  891EE660A73D9A6E1F4BD6149E613C44  0279CBF3081FFB710CE52B9E0BA4AABF   \n82772  77FFC91A6157E50A0A114135F18BB1DB  C08050B58F54FA81F4580ECE15296698   \n83531  939A40D09BD05A13C32B381245670495  87E33E0563FFE783FB56D01E7E09E692   \n85320                                -1                                -1   \n94263  0F5AE38AFC0210BAE65C4C9491339B08  EB1EB6A03897A9F48C11FAA728F829F4   \n95793  A78952B21B4165ADA2189AE66887E2F1  30131E72F860C21850E0F2BB16B862DF   \n96333  791FBB12E44C1CAB7AFFD314326EBD00  CED079169908C44DFC124BE46743BD64   \n96918  A666065FA8B25F44A04AFF2C04CF3491  02556650A06833121D207D46D5237BB1   \n97144                                -1                                -1   \n97579  77FFC91A6157E50A0A114135F18BB1DB  FAE775DB79B7E40FB3E581B2755783A4   \n99136  CD599E5A946D00A81A875E085F7EF1E8                                -1   \n\n                    product_category(4)               product_category(5)  \\\n781                                  -1                                -1   \n1741                                 -1                                -1   \n2537   E190EC16297AEC9837613F5F6E3A383D                                -1   \n7065                                 -1                                -1   \n7219                                 -1                                -1   \n8229   899CE7F661D315A6D9288B7FA289B2EC                                -1   \n10925                                -1                                -1   \n11046                                -1                                -1   \n11620                                -1                                -1   \n16018                                -1                                -1   \n23757                                -1                                -1   \n24259                                -1                                -1   \n24418                                -1                                -1   \n24885  E271C8DB1E11A43928FFA6BECBF713FE  352F46BE455C3856029AB197A4361404   \n25085                                -1                                -1   \n25927  DEA264F25D42443544D3F50C3EA01319                                -1   \n27232                                -1                                -1   \n32061                                -1                                -1   \n35920  5ED6D81CC8A2067806D074507E6EA48C                                -1   \n38791  130539907160BE09230361DD99EF9B38                                -1   \n40672                                -1                                -1   \n41524                                -1                                -1   \n43578                                -1                                -1   \n44877                                -1                                -1   \n45718                                -1                                -1   \n45919                                -1                                -1   \n51495                                -1                                -1   \n51721                                -1                                -1   \n56108                                -1                                -1   \n56180                                -1                                -1   \n56234                                -1                                -1   \n59045                                -1                                -1   \n60390                                -1                                -1   \n62198  E970B6E90DCE5E7769360E6BD6532433  3AC704002CAD97CF63081B48A7045B1D   \n64416                                -1                                -1   \n64510                                -1                                -1   \n66307                                -1                                -1   \n66947                                -1                                -1   \n67209                                -1                                -1   \n70296  DEA264F25D42443544D3F50C3EA01319                                -1   \n70390  CD1E49DD862EA6C793F1AC18C9A2ED0D                                -1   \n73778                                -1                                -1   \n76828                                -1                                -1   \n80710                                -1                                -1   \n80817  68DD5FFC49801353AA4A4B1172169F53                                -1   \n82772  067525A83E1875CB1828F4F9ADC752F6                                -1   \n83531  64FB60A342CF51C1F55F43119FFA9C2F                                -1   \n85320                                -1                                -1   \n94263                                -1                                -1   \n95793  DEA264F25D42443544D3F50C3EA01319                                -1   \n96333                                -1                                -1   \n96918                                -1                                -1   \n97144                                -1                                -1   \n97579                                -1                                -1   \n99136                                -1                                -1   \n\n      product_category(6)                   product_country  \\\n781                    -1  57A1D462A03BD076E029CF9310C11FC5   \n1741                   -1  2AC62132FBCFA093B9426894A4BC6278   \n2537                   -1  989EEF92F2A525DD896557425EA7C4C7   \n7065                   -1  2AC62132FBCFA093B9426894A4BC6278   \n7219                   -1                                -1   \n8229                   -1  57A1D462A03BD076E029CF9310C11FC5   \n10925                  -1  2AC62132FBCFA093B9426894A4BC6278   \n11046                  -1                                -1   \n11620                  -1  989EEF92F2A525DD896557425EA7C4C7   \n16018                  -1  2AC62132FBCFA093B9426894A4BC6278   \n23757                  -1  2AC62132FBCFA093B9426894A4BC6278   \n24259                  -1  2AC62132FBCFA093B9426894A4BC6278   \n24418                  -1                                -1   \n24885                  -1  57A1D462A03BD076E029CF9310C11FC5   \n25085                  -1                                -1   \n25927                  -1  57A1D462A03BD076E029CF9310C11FC5   \n27232                  -1                                -1   \n32061                  -1  D963E3BCE149E71F5D5E3000DCF68A9F   \n35920                  -1  989EEF92F2A525DD896557425EA7C4C7   \n38791                  -1  57A1D462A03BD076E029CF9310C11FC5   \n40672                  -1                                -1   \n41524                  -1  B1D897877EBD2BCE4A722DF0581CDAF5   \n43578                  -1  2AC62132FBCFA093B9426894A4BC6278   \n44877                  -1                                -1   \n45718                  -1  57A1D462A03BD076E029CF9310C11FC5   \n45919                  -1                                -1   \n51495                  -1                                -1   \n51721                  -1                                -1   \n56108                  -1  989EEF92F2A525DD896557425EA7C4C7   \n56180                  -1  57A1D462A03BD076E029CF9310C11FC5   \n56234                  -1                                -1   \n59045                  -1                                -1   \n60390                  -1                                -1   \n62198                  -1  D963E3BCE149E71F5D5E3000DCF68A9F   \n64416                  -1  57A1D462A03BD076E029CF9310C11FC5   \n64510                  -1                                -1   \n66307                  -1  D963E3BCE149E71F5D5E3000DCF68A9F   \n66947                  -1                                -1   \n67209                  -1  57A1D462A03BD076E029CF9310C11FC5   \n70296                  -1  D963E3BCE149E71F5D5E3000DCF68A9F   \n70390                  -1  57A1D462A03BD076E029CF9310C11FC5   \n73778                  -1  D963E3BCE149E71F5D5E3000DCF68A9F   \n76828                  -1  57A1D462A03BD076E029CF9310C11FC5   \n80710                  -1  57A1D462A03BD076E029CF9310C11FC5   \n80817                  -1  2AC62132FBCFA093B9426894A4BC6278   \n82772                  -1  B1D897877EBD2BCE4A722DF0581CDAF5   \n83531                  -1  57A1D462A03BD076E029CF9310C11FC5   \n85320                  -1  2AC62132FBCFA093B9426894A4BC6278   \n94263                  -1  2AC62132FBCFA093B9426894A4BC6278   \n95793                  -1  D963E3BCE149E71F5D5E3000DCF68A9F   \n96333                  -1  57A1D462A03BD076E029CF9310C11FC5   \n96918                  -1  989EEF92F2A525DD896557425EA7C4C7   \n97144                  -1  57A1D462A03BD076E029CF9310C11FC5   \n97579                  -1  B1D897877EBD2BCE4A722DF0581CDAF5   \n99136                  -1  989EEF92F2A525DD896557425EA7C4C7   \n\n                             product_id                        partner_id  \\\n781    A3DDF454CE18D947F16BCFC666425262  E3DDEB04F8AFF944B11943BB57D2F620   \n1741   78030EE8D15D284F27E6089B513FB258  DBC68384CC0C24A70CE63265F65494F4   \n2537   5D9A7D517C014318A7825E1C3EED5523  0C5663BE07C0228F28ECE1AA0BB59B25   \n7065   304451F67BCC7DEAA0B00CCED0B173E4  95F6B7BA0BA90E5D5DF1CC063390BA51   \n7219                                 -1  9946AE215D24E4E0CD9268ECB054EBC8   \n8229   2F55E33D340F558F50CC27CFE21D64D6  A9D8254930B7A1D7265C595AE6120C90   \n10925  933AEDA671426AA9BE29DCE30C9065B4  53A30763612E8A0DF4861CD4A0770B89   \n11046                                -1  9946AE215D24E4E0CD9268ECB054EBC8   \n11620  2FBA8B16A0C8902A640396FAE9822A27  F69BC5EFCFAA28BA9308D3378A81DAF2   \n16018  B22A1E732A398D300CF7E111E36D06D2  319A2412BDB0EF669733053640B80112   \n23757  166A89012EA4BB5349F15024FDDE214E  925829CF82DFDC74DE3F88F003CE7BEF   \n24259  2B8747ECB45356435F18530D1E9C3C75  319A2412BDB0EF669733053640B80112   \n24418                                -1  440255DF62CFD36FBC0206828FC488E0   \n24885  B0950876863E7EDE08A0F718C48752F4  A3B6CDB413E8C3A945248C364022DCB7   \n25085                                -1  824570568420550FBB4B326BBD7BE5A5   \n25927  9A49B69D9B8666E937EEFECCB63C189C  E3DDEB04F8AFF944B11943BB57D2F620   \n27232                                -1  440255DF62CFD36FBC0206828FC488E0   \n32061  20CF1F8A0E8D1883A8C1A82CF4E9F9C1  5D4FE9350AF7E4CAE2CD24EDEC6F9050   \n35920  CE2AF1E2BEE77EDFC27E27517C5DC924  51EBAAC05E372CBCDF0F207517A225AB   \n38791  87D97528480EA80A785CB8795D632E79  40072ABF582A3EC8CA540802BC12A2B9   \n40672                                -1  69D1FC0D5A80D2AD364E868EB8CFE7D3   \n41524  4F30EA4ED7979DB8B3CBEDA366F86A9E  023E892E813B16691CB0F136B92FD92E   \n43578  1A5F779E7C56E50D1430D66836D8C3F9  FEDAAE09DAA192C006445467656BDE9C   \n44877                                -1  CDD0D3B397AE6CEF57D555B7B7ABDD96   \n45718  93E3736C0AF2F37E4DCC8893A0732FD9  E3DDEB04F8AFF944B11943BB57D2F620   \n45919                                -1  B926E8E57093C0E2867B170A37D45682   \n51495                                -1  C13DEAF04388B219AC04416DF3DA0ED8   \n51721                                -1  08FA5A96EE7FB09BD4718ADFE9AD6031   \n56108  23F7E2E6DA5CEE0C6F4FECE4E51E4B69  F0FD783189F55BAFC331AD347EAE6863   \n56180  095B4109698D5E612B44575995282E87  E3DDEB04F8AFF944B11943BB57D2F620   \n56234                                -1  B926E8E57093C0E2867B170A37D45682   \n59045                                -1  9946AE215D24E4E0CD9268ECB054EBC8   \n60390                                -1  95F6B7BA0BA90E5D5DF1CC063390BA51   \n62198  2B14BBE62860C1B2321060A2DC626AAD  F122B91F6D102E4630817566839A4F1F   \n64416  1A6F2A6DD40044403B9129DF5E511373  E3DDEB04F8AFF944B11943BB57D2F620   \n64510                                -1  B926E8E57093C0E2867B170A37D45682   \n66307  1B11C93FFE249906A6EFF798E82D7E33  66643A46398D28F68F00DF71DEAA71D3   \n66947                                -1  B926E8E57093C0E2867B170A37D45682   \n67209  9AFE0ED4F0F6FCDCE495430999720C4B  E3DDEB04F8AFF944B11943BB57D2F620   \n70296  4CC7927DF5C73E136D03BDE7BDC11ABE  F122B91F6D102E4630817566839A4F1F   \n70390  BF9837462F09B8BC9659A6345D942226  E3DDEB04F8AFF944B11943BB57D2F620   \n73778  20DB44BD5CAD276B3C5F624B73140313  F122B91F6D102E4630817566839A4F1F   \n76828  A38852F65DD353297125796EE354C0E0  E3DDEB04F8AFF944B11943BB57D2F620   \n80710  1A05B0220A90222D114E28D6DD89BD2D  E3DDEB04F8AFF944B11943BB57D2F620   \n80817  32D8E7430A60DAF69E03255D2815CAFC  925829CF82DFDC74DE3F88F003CE7BEF   \n82772  7FC64EB9968F8CC3F1CBDE22C0213C4D  0225D81C97298F6FD63C8868EE8E2228   \n83531  AB1924A57AB7B84E93947DA3AFCCFA22  E3DDEB04F8AFF944B11943BB57D2F620   \n85320  1F7B30A771C22F7A47AC37C876F413DD  53A30763612E8A0DF4861CD4A0770B89   \n94263  8C04FC616830DDBB1965A2C84EA64DAF  319A2412BDB0EF669733053640B80112   \n95793  4CC7927DF5C73E136D03BDE7BDC11ABE  F122B91F6D102E4630817566839A4F1F   \n96333  746F7C53B0C9A6283EA68D46EB9E5BA7  E3DDEB04F8AFF944B11943BB57D2F620   \n96918  99CB59DF5C2C9E58A43B24425029E23E  2F13BB7176EBE22D37B5AFB3C814FE12   \n97144  3F773169A09D92A528AB2644A7FC22F4  E3DDEB04F8AFF944B11943BB57D2F620   \n97579  12897671825723C977F78B8B151E9404  0225D81C97298F6FD63C8868EE8E2228   \n99136  FDB1DE98EAD50B57EF33D37FAA3BC576  F0FD783189F55BAFC331AD347EAE6863   \n\n                                user_id  \n781    BD26D5724A8315EBC730B5808E287C7A  \n1741   3A814799A62F803363B3BCCBC2AB58B6  \n2537   01A9CF140675A17FA1532943279EFEB9  \n7065   87EAFC027643ACB6E939C1595043BF96  \n7219   D5CB34AA8FC349DBD985306AA3A2A2FC  \n8229   CCCE4D4E01C46F00DFC2FE257495D477  \n10925  54F947D21FD44FB0D5AE4CCEEE7369E3  \n11046  AA7CE1394403EB221D6B05C79DC237BA  \n11620  BEE1370A438BD8186D691BD5C3202CD6  \n16018  FB8F64087C514C65CC7142387A2A42EB  \n23757  91652E39CCA84C1A7B782A129FF7960C  \n24259  0446AC710736118FBB213D062EA9E66F  \n24418  F491F95ACFACF144D7E9948A114924C2  \n24885  EB544708BF9C46121E8B6BEBA72F0B89  \n25085  5ED7DCA64FED28677F51A64A4FB8CCE4  \n25927  CACF40F0BE2FE6A29D8C2DA21AA8F98C  \n27232  BA05CDD989C23D229A3CACCDEF217211  \n32061  D7E3BD47D4A3EDA0637F2BC91999D195  \n35920  0DC992FA71C583A3150A36296BDC188E  \n38791  FF1F1DA8A95A21E72500B44D83A760B6  \n40672  8313B55C06BDB6FAEB0601B46C84C034  \n41524  DA75D6E70655F6554A6C8A3B95705D62  \n43578  44AFB24D55CC154B04691EC42F3BA6E5  \n44877  2A00AA66FA808095B9132ACE29BAEB32  \n45718  B3E2325DB9CB4383BC39C98CCBA69AC9  \n45919  58E514D4BC5128C0A7C4FE29A5EC6C6F  \n51495  4FF524D1D46E9A396F9574D783DDA44E  \n51721  A6BC07A2E9BD0C90C65FBC5A0328FE6D  \n56108  0DA4C0F27D9AE67BDAF73C3EFD52E0BD  \n56180  EEFB0A15EEAB164EF2DF0947DD465562  \n56234  24874A10895AAB5ABFC1D58F7E0DB7DC  \n59045  B1F99A8637C840D61DFD89771609701B  \n60390  6D191D842A674BE6957DF8CC069C06AF  \n62198  FBD7AC02A581C1F13B5AB738CDE29902  \n64416  CBC766B78DACE5DEB909CF2234839C0F  \n64510  A0ACF41E600446CD8D2026183E98AF13  \n66307  1B1E273F85A87A3BA09E4E8EECD1CA41  \n66947  2F07C33DAB239AF5CCC316C5F6A732AB  \n67209  4838BF9EF8E3C362C810B2FDF1736324  \n70296  482E6E9E4444A5265EB425DA69787954  \n70390  712AED325572DAB3D98DF59D455C7E13  \n73778  B7A62354DBF2026EBF0CE4961CEF1E51  \n76828  04009A7555170B6B74B7F4947078C8F4  \n80710  1988757192B3C9622605C4042E2FA643  \n80817  FE03E0ED8F7656EC8BEECCB7811781D0  \n82772  0FCEADB692299A07E8024D42BB460146  \n83531  B4D58A1C58851078112A10245F240886  \n85320  96EF3CD6674855E9277E39D6F5E2FFDA  \n94263  7F74D5C9E14A8F6B6B1B791A2689105F  \n95793  BE2DC05A7033BED4A8BA30BF8637C7CF  \n96333  BAB2ABAE81BB47D13BF586639C269688  \n96918  384ACB5AF66E006A7DB9BFE8D40B17B8  \n97144  23BAD39DD8620D6F0B93E236EC1ED125  \n97579  8DA929A412FC5DCD12A0864BFF992019  \n99136  1A25AEB186F23EB984D57CF02F38852A  ",
      "text/html": "<div>\n<style scoped>\n    .dataframe tbody tr th:only-of-type {\n        vertical-align: middle;\n    }\n\n    .dataframe tbody tr th {\n        vertical-align: top;\n    }\n\n    .dataframe thead th {\n        text-align: right;\n    }\n</style>\n<table border=\"1\" class=\"dataframe\">\n  <thead>\n    <tr style=\"text-align: right;\">\n      <th></th>\n      <th>Sale</th>\n      <th>time_delay_for_conversion</th>\n      <th>click_timestamp</th>\n      <th>nb_clicks_1week</th>\n      <th>product_price</th>\n      <th>product_age_group</th>\n      <th>device_type</th>\n      <th>product_gender</th>\n      <th>product_brand</th>\n      <th>product_category(1)</th>\n      <th>product_category(2)</th>\n      <th>product_category(3)</th>\n      <th>product_category(4)</th>\n      <th>product_category(5)</th>\n      <th>product_category(6)</th>\n      <th>product_country</th>\n      <th>product_id</th>\n      <th>partner_id</th>\n      <th>user_id</th>\n    </tr>\n  </thead>\n  <tbody>\n    <tr>\n      <th>781</th>\n      <td>1</td>\n      <td>-1</td>\n      <td>2020-08-04 04:19:22</td>\n      <td>-1</td>\n      <td>58.33</td>\n      <td>-1</td>\n      <td>7E56C27BFF0305E788DA55A029EC4988</td>\n      <td>-1</td>\n      <td>-1</td>\n      <td>-1</td>\n      <td>-1</td>\n      <td>-1</td>\n      <td>-1</td>\n      <td>-1</td>\n      <td>-1</td>\n      <td>57A1D462A03BD076E029CF9310C11FC5</td>\n      <td>A3DDF454CE18D947F16BCFC666425262</td>\n      <td>E3DDEB04F8AFF944B11943BB57D2F620</td>\n      <td>BD26D5724A8315EBC730B5808E287C7A</td>\n    </tr>\n    <tr>\n      <th>1741</th>\n      <td>1</td>\n      <td>-1</td>\n      <td>2020-08-03 09:36:08</td>\n      <td>14</td>\n      <td>35.99</td>\n      <td>4C90FD52FC53D2C1C205844CB69575AB</td>\n      <td>7E56C27BFF0305E788DA55A029EC4988</td>\n      <td>C45A9AC6D102ACAEEDF0D6F78636D84A</td>\n      <td>BFEEE5F4232E521C7A0E02E1984BDBF8</td>\n      <td>033E492229C2222EFAA16EE8A6462D8B</td>\n      <td>CD599E5A946D00A81A875E085F7EF1E8</td>\n      <td>-1</td>\n      <td>-1</td>\n      <td>-1</td>\n      <td>-1</td>\n      <td>2AC62132FBCFA093B9426894A4BC6278</td>\n      <td>78030EE8D15D284F27E6089B513FB258</td>\n      <td>DBC68384CC0C24A70CE63265F65494F4</td>\n      <td>3A814799A62F803363B3BCCBC2AB58B6</td>\n    </tr>\n    <tr>\n      <th>2537</th>\n      <td>1</td>\n      <td>-1</td>\n      <td>2020-08-04 10:44:31</td>\n      <td>2233</td>\n      <td>30.60</td>\n      <td>-1</td>\n      <td>D7D1FB49049702BF6338894757E0D959</td>\n      <td>-1</td>\n      <td>9E0EAAF455B7E51AE375D9CA77041CE4</td>\n      <td>13C26D10258053889D75D9B9CA922EC7</td>\n      <td>D8C555B86D5912C47B979FD96E6D802D</td>\n      <td>5925B8C370A05018573C8166FF63F634</td>\n      <td>E190EC16297AEC9837613F5F6E3A383D</td>\n      <td>-1</td>\n      <td>-1</td>\n      <td>989EEF92F2A525DD896557425EA7C4C7</td>\n      <td>5D9A7D517C014318A7825E1C3EED5523</td>\n      <td>0C5663BE07C0228F28ECE1AA0BB59B25</td>\n      <td>01A9CF140675A17FA1532943279EFEB9</td>\n    </tr>\n    <tr>\n      <th>7065</th>\n      <td>1</td>\n      <td>-1</td>\n      <td>2020-08-03 07:58:44</td>\n      <td>0</td>\n      <td>0.00</td>\n      <td>88460293E9517D21E39AA889BD5AADC8</td>\n      <td>7E56C27BFF0305E788DA55A029EC4988</td>\n      <td>1B491180398E2F0390E6A588B3BCE291</td>\n      <td>D544DD4C9E7F122F9299A06DCC827F2B</td>\n      <td>033E492229C2222EFAA16EE8A6462D8B</td>\n      <td>CD599E5A946D00A81A875E085F7EF1E8</td>\n      <td>-1</td>\n      <td>-1</td>\n      <td>-1</td>\n      <td>-1</td>\n      <td>2AC62132FBCFA093B9426894A4BC6278</td>\n      <td>304451F67BCC7DEAA0B00CCED0B173E4</td>\n      <td>95F6B7BA0BA90E5D5DF1CC063390BA51</td>\n      <td>87EAFC027643ACB6E939C1595043BF96</td>\n    </tr>\n    <tr>\n      <th>7219</th>\n      <td>1</td>\n      <td>-1</td>\n      <td>2020-08-03 14:39:58</td>\n      <td>-1</td>\n      <td>10.00</td>\n      <td>-1</td>\n      <td>D7D1FB49049702BF6338894757E0D959</td>\n      <td>-1</td>\n      <td>-1</td>\n      <td>-1</td>\n      <td>-1</td>\n      <td>-1</td>\n      <td>-1</td>\n      <td>-1</td>\n      <td>-1</td>\n      <td>-1</td>\n      <td>-1</td>\n      <td>9946AE215D24E4E0CD9268ECB054EBC8</td>\n      <td>D5CB34AA8FC349DBD985306AA3A2A2FC</td>\n    </tr>\n    <tr>\n      <th>8229</th>\n      <td>1</td>\n      <td>-1</td>\n      <td>2020-08-04 01:28:58</td>\n      <td>3</td>\n      <td>14.46</td>\n      <td>-1</td>\n      <td>7E56C27BFF0305E788DA55A029EC4988</td>\n      <td>-1</td>\n      <td>51C55AEA8C66A76918733F7E6E5A0198</td>\n      <td>635623BABBB7DA2E072D8C339F606E15</td>\n      <td>80DF9DD23FCDB4F869BD699276D0A677</td>\n      <td>C38F66E32790514C9A7EE57BBFB431CA</td>\n      <td>899CE7F661D315A6D9288B7FA289B2EC</td>\n      <td>-1</td>\n      <td>-1</td>\n      <td>57A1D462A03BD076E029CF9310C11FC5</td>\n      <td>2F55E33D340F558F50CC27CFE21D64D6</td>\n      <td>A9D8254930B7A1D7265C595AE6120C90</td>\n      <td>CCCE4D4E01C46F00DFC2FE257495D477</td>\n    </tr>\n    <tr>\n      <th>10925</th>\n      <td>1</td>\n      <td>-1</td>\n      <td>2020-08-04 11:01:19</td>\n      <td>-1</td>\n      <td>22.99</td>\n      <td>-1</td>\n      <td>7E56C27BFF0305E788DA55A029EC4988</td>\n      <td>-1</td>\n      <td>-1</td>\n      <td>-1</td>\n      <td>-1</td>\n      <td>-1</td>\n      <td>-1</td>\n      <td>-1</td>\n      <td>-1</td>\n      <td>2AC62132FBCFA093B9426894A4BC6278</td>\n      <td>933AEDA671426AA9BE29DCE30C9065B4</td>\n      <td>53A30763612E8A0DF4861CD4A0770B89</td>\n      <td>54F947D21FD44FB0D5AE4CCEEE7369E3</td>\n    </tr>\n    <tr>\n      <th>11046</th>\n      <td>1</td>\n      <td>-1</td>\n      <td>2020-08-04 02:18:37</td>\n      <td>-1</td>\n      <td>8.00</td>\n      <td>-1</td>\n      <td>D7D1FB49049702BF6338894757E0D959</td>\n      <td>-1</td>\n      <td>-1</td>\n      <td>-1</td>\n      <td>-1</td>\n      <td>-1</td>\n      <td>-1</td>\n      <td>-1</td>\n      <td>-1</td>\n      <td>-1</td>\n      <td>-1</td>\n      <td>9946AE215D24E4E0CD9268ECB054EBC8</td>\n      <td>AA7CE1394403EB221D6B05C79DC237BA</td>\n    </tr>\n    <tr>\n      <th>11620</th>\n      <td>1</td>\n      <td>-1</td>\n      <td>2020-08-04 01:58:56</td>\n      <td>-1</td>\n      <td>16.00</td>\n      <td>-1</td>\n      <td>D7D1FB49049702BF6338894757E0D959</td>\n      <td>-1</td>\n      <td>-1</td>\n      <td>-1</td>\n      <td>-1</td>\n      <td>-1</td>\n      <td>-1</td>\n      <td>-1</td>\n      <td>-1</td>\n      <td>989EEF92F2A525DD896557425EA7C4C7</td>\n      <td>2FBA8B16A0C8902A640396FAE9822A27</td>\n      <td>F69BC5EFCFAA28BA9308D3378A81DAF2</td>\n      <td>BEE1370A438BD8186D691BD5C3202CD6</td>\n    </tr>\n    <tr>\n      <th>16018</th>\n      <td>1</td>\n      <td>-1</td>\n      <td>2020-08-04 03:33:46</td>\n      <td>73</td>\n      <td>108.00</td>\n      <td>4C90FD52FC53D2C1C205844CB69575AB</td>\n      <td>D7D1FB49049702BF6338894757E0D959</td>\n      <td>1B491180398E2F0390E6A588B3BCE291</td>\n      <td>1AD3068232C3FEC4BCB748225F7F54E0</td>\n      <td>033E492229C2222EFAA16EE8A6462D8B</td>\n      <td>77FFC91A6157E50A0A114135F18BB1DB</td>\n      <td>80B4E93C8B7E12D7CF52D418D70FA5AD</td>\n      <td>-1</td>\n      <td>-1</td>\n      <td>-1</td>\n      <td>2AC62132FBCFA093B9426894A4BC6278</td>\n      <td>B22A1E732A398D300CF7E111E36D06D2</td>\n      <td>319A2412BDB0EF669733053640B80112</td>\n      <td>FB8F64087C514C65CC7142387A2A42EB</td>\n    </tr>\n    <tr>\n      <th>23757</th>\n      <td>1</td>\n      <td>-1</td>\n      <td>2020-08-03 20:55:04</td>\n      <td>0</td>\n      <td>31.99</td>\n      <td>4C90FD52FC53D2C1C205844CB69575AB</td>\n      <td>7E56C27BFF0305E788DA55A029EC4988</td>\n      <td>C45A9AC6D102ACAEEDF0D6F78636D84A</td>\n      <td>7388CCEB24DC7917AED6E4B266342A84</td>\n      <td>033E492229C2222EFAA16EE8A6462D8B</td>\n      <td>3DCF45B664023887F9F2DDA616853C50</td>\n      <td>8A34611349E42CD8232F1E6B9BC8C709</td>\n      <td>-1</td>\n      <td>-1</td>\n      <td>-1</td>\n      <td>2AC62132FBCFA093B9426894A4BC6278</td>\n      <td>166A89012EA4BB5349F15024FDDE214E</td>\n      <td>925829CF82DFDC74DE3F88F003CE7BEF</td>\n      <td>91652E39CCA84C1A7B782A129FF7960C</td>\n    </tr>\n    <tr>\n      <th>24259</th>\n      <td>1</td>\n      <td>-1</td>\n      <td>2020-08-04 07:47:03</td>\n      <td>13</td>\n      <td>139.00</td>\n      <td>4C90FD52FC53D2C1C205844CB69575AB</td>\n      <td>D7D1FB49049702BF6338894757E0D959</td>\n      <td>1B491180398E2F0390E6A588B3BCE291</td>\n      <td>E586CCCF242FDD79877874C4ABD5A2AE</td>\n      <td>033E492229C2222EFAA16EE8A6462D8B</td>\n      <td>77FFC91A6157E50A0A114135F18BB1DB</td>\n      <td>2E4ED2B95CEF7FD11B282CDFDD56CEA0</td>\n      <td>-1</td>\n      <td>-1</td>\n      <td>-1</td>\n      <td>2AC62132FBCFA093B9426894A4BC6278</td>\n      <td>2B8747ECB45356435F18530D1E9C3C75</td>\n      <td>319A2412BDB0EF669733053640B80112</td>\n      <td>0446AC710736118FBB213D062EA9E66F</td>\n    </tr>\n    <tr>\n      <th>24418</th>\n      <td>1</td>\n      <td>-1</td>\n      <td>2020-08-03 21:41:19</td>\n      <td>-1</td>\n      <td>0.00</td>\n      <td>-1</td>\n      <td>D7D1FB49049702BF6338894757E0D959</td>\n      <td>-1</td>\n      <td>-1</td>\n      <td>-1</td>\n      <td>-1</td>\n      <td>-1</td>\n      <td>-1</td>\n      <td>-1</td>\n      <td>-1</td>\n      <td>-1</td>\n      <td>-1</td>\n      <td>440255DF62CFD36FBC0206828FC488E0</td>\n      <td>F491F95ACFACF144D7E9948A114924C2</td>\n    </tr>\n    <tr>\n      <th>24885</th>\n      <td>1</td>\n      <td>-1</td>\n      <td>2020-08-04 00:43:17</td>\n      <td>21</td>\n      <td>10.75</td>\n      <td>-1</td>\n      <td>D7D1FB49049702BF6338894757E0D959</td>\n      <td>-1</td>\n      <td>5403D8923180FADDD0DB280DAC16E744</td>\n      <td>62D6A49514020FA0B2E434DB0B506005</td>\n      <td>50FF54E71F635597F839D2428054DC0C</td>\n      <td>E024AD4AAD0BFC3DBC319351B1DA0A0A</td>\n      <td>E271C8DB1E11A43928FFA6BECBF713FE</td>\n      <td>352F46BE455C3856029AB197A4361404</td>\n      <td>-1</td>\n      <td>57A1D462A03BD076E029CF9310C11FC5</td>\n      <td>B0950876863E7EDE08A0F718C48752F4</td>\n      <td>A3B6CDB413E8C3A945248C364022DCB7</td>\n      <td>EB544708BF9C46121E8B6BEBA72F0B89</td>\n    </tr>\n    <tr>\n      <th>25085</th>\n      <td>1</td>\n      <td>-1</td>\n      <td>2020-08-04 03:27:17</td>\n      <td>-1</td>\n      <td>35.00</td>\n      <td>-1</td>\n      <td>D7D1FB49049702BF6338894757E0D959</td>\n      <td>-1</td>\n      <td>-1</td>\n      <td>-1</td>\n      <td>-1</td>\n      <td>-1</td>\n      <td>-1</td>\n      <td>-1</td>\n      <td>-1</td>\n      <td>-1</td>\n      <td>-1</td>\n      <td>824570568420550FBB4B326BBD7BE5A5</td>\n      <td>5ED7DCA64FED28677F51A64A4FB8CCE4</td>\n    </tr>\n    <tr>\n      <th>25927</th>\n      <td>1</td>\n      <td>-1</td>\n      <td>2020-08-03 19:48:45</td>\n      <td>91</td>\n      <td>14.08</td>\n      <td>-1</td>\n      <td>7E56C27BFF0305E788DA55A029EC4988</td>\n      <td>-1</td>\n      <td>-1</td>\n      <td>B4B45C6CE5FC4DE45AB02974D8849DBD</td>\n      <td>A78952B21B4165ADA2189AE66887E2F1</td>\n      <td>30131E72F860C21850E0F2BB16B862DF</td>\n      <td>DEA264F25D42443544D3F50C3EA01319</td>\n      <td>-1</td>\n      <td>-1</td>\n      <td>57A1D462A03BD076E029CF9310C11FC5</td>\n      <td>9A49B69D9B8666E937EEFECCB63C189C</td>\n      <td>E3DDEB04F8AFF944B11943BB57D2F620</td>\n      <td>CACF40F0BE2FE6A29D8C2DA21AA8F98C</td>\n    </tr>\n    <tr>\n      <th>27232</th>\n      <td>1</td>\n      <td>-1</td>\n      <td>2020-08-04 04:52:57</td>\n      <td>-1</td>\n      <td>0.00</td>\n      <td>-1</td>\n      <td>D7D1FB49049702BF6338894757E0D959</td>\n      <td>-1</td>\n      <td>-1</td>\n      <td>-1</td>\n      <td>-1</td>\n      <td>-1</td>\n      <td>-1</td>\n      <td>-1</td>\n      <td>-1</td>\n      <td>-1</td>\n      <td>-1</td>\n      <td>440255DF62CFD36FBC0206828FC488E0</td>\n      <td>BA05CDD989C23D229A3CACCDEF217211</td>\n    </tr>\n    <tr>\n      <th>32061</th>\n      <td>1</td>\n      <td>-1</td>\n      <td>2020-08-03 22:40:55</td>\n      <td>0</td>\n      <td>109.71</td>\n      <td>4C90FD52FC53D2C1C205844CB69575AB</td>\n      <td>D7D1FB49049702BF6338894757E0D959</td>\n      <td>D7B42B0C4D807EF1C13F79948743E9DA</td>\n      <td>AF987DFD50EA97717E6A0D8B2984DF66</td>\n      <td>033E492229C2222EFAA16EE8A6462D8B</td>\n      <td>D28A87BAAF0922BEB3E8099E6E262237</td>\n      <td>AA4B14C4176A235370FAF604A5FEA467</td>\n      <td>-1</td>\n      <td>-1</td>\n      <td>-1</td>\n      <td>D963E3BCE149E71F5D5E3000DCF68A9F</td>\n      <td>20CF1F8A0E8D1883A8C1A82CF4E9F9C1</td>\n      <td>5D4FE9350AF7E4CAE2CD24EDEC6F9050</td>\n      <td>D7E3BD47D4A3EDA0637F2BC91999D195</td>\n    </tr>\n    <tr>\n      <th>35920</th>\n      <td>1</td>\n      <td>-1</td>\n      <td>2020-08-03 07:57:49</td>\n      <td>294</td>\n      <td>163.89</td>\n      <td>4C90FD52FC53D2C1C205844CB69575AB</td>\n      <td>D7D1FB49049702BF6338894757E0D959</td>\n      <td>A5D15FC386510762EC0DDFF54ABE6F94</td>\n      <td>-1</td>\n      <td>B4B45C6CE5FC4DE45AB02974D8849DBD</td>\n      <td>A78952B21B4165ADA2189AE66887E2F1</td>\n      <td>9C7227145F2E2BF297F8CB765C323019</td>\n      <td>5ED6D81CC8A2067806D074507E6EA48C</td>\n      <td>-1</td>\n      <td>-1</td>\n      <td>989EEF92F2A525DD896557425EA7C4C7</td>\n      <td>CE2AF1E2BEE77EDFC27E27517C5DC924</td>\n      <td>51EBAAC05E372CBCDF0F207517A225AB</td>\n      <td>0DC992FA71C583A3150A36296BDC188E</td>\n    </tr>\n    <tr>\n      <th>38791</th>\n      <td>1</td>\n      <td>-1</td>\n      <td>2020-08-03 23:05:35</td>\n      <td>10</td>\n      <td>206.00</td>\n      <td>-1</td>\n      <td>D7D1FB49049702BF6338894757E0D959</td>\n      <td>-1</td>\n      <td>AF8393D72184D72EC9D55D7C6B10DFD5</td>\n      <td>62D6A49514020FA0B2E434DB0B506005</td>\n      <td>49C166361658D9ACF79C78FC97272B01</td>\n      <td>BCCC1BBBA27989E192D26A0DA25E448E</td>\n      <td>130539907160BE09230361DD99EF9B38</td>\n      <td>-1</td>\n      <td>-1</td>\n      <td>57A1D462A03BD076E029CF9310C11FC5</td>\n      <td>87D97528480EA80A785CB8795D632E79</td>\n      <td>40072ABF582A3EC8CA540802BC12A2B9</td>\n      <td>FF1F1DA8A95A21E72500B44D83A760B6</td>\n    </tr>\n    <tr>\n      <th>40672</th>\n      <td>1</td>\n      <td>-1</td>\n      <td>2020-08-03 22:11:20</td>\n      <td>-1</td>\n      <td>259.00</td>\n      <td>-1</td>\n      <td>7E56C27BFF0305E788DA55A029EC4988</td>\n      <td>-1</td>\n      <td>-1</td>\n      <td>-1</td>\n      <td>-1</td>\n      <td>-1</td>\n      <td>-1</td>\n      <td>-1</td>\n      <td>-1</td>\n      <td>-1</td>\n      <td>-1</td>\n      <td>69D1FC0D5A80D2AD364E868EB8CFE7D3</td>\n      <td>8313B55C06BDB6FAEB0601B46C84C034</td>\n    </tr>\n    <tr>\n      <th>41524</th>\n      <td>1</td>\n      <td>-1</td>\n      <td>2020-08-04 16:18:11</td>\n      <td>634</td>\n      <td>24.99</td>\n      <td>4C90FD52FC53D2C1C205844CB69575AB</td>\n      <td>7E56C27BFF0305E788DA55A029EC4988</td>\n      <td>1B491180398E2F0390E6A588B3BCE291</td>\n      <td>8F18CEA7DF93B3926CA0978F35864E03</td>\n      <td>033E492229C2222EFAA16EE8A6462D8B</td>\n      <td>77FFC91A6157E50A0A114135F18BB1DB</td>\n      <td>FAE775DB79B7E40FB3E581B2755783A4</td>\n      <td>-1</td>\n      <td>-1</td>\n      <td>-1</td>\n      <td>B1D897877EBD2BCE4A722DF0581CDAF5</td>\n      <td>4F30EA4ED7979DB8B3CBEDA366F86A9E</td>\n      <td>023E892E813B16691CB0F136B92FD92E</td>\n      <td>DA75D6E70655F6554A6C8A3B95705D62</td>\n    </tr>\n    <tr>\n      <th>43578</th>\n      <td>1</td>\n      <td>-1</td>\n      <td>2020-08-03 23:02:37</td>\n      <td>-1</td>\n      <td>1.99</td>\n      <td>-1</td>\n      <td>D7D1FB49049702BF6338894757E0D959</td>\n      <td>-1</td>\n      <td>-1</td>\n      <td>-1</td>\n      <td>-1</td>\n      <td>-1</td>\n      <td>-1</td>\n      <td>-1</td>\n      <td>-1</td>\n      <td>2AC62132FBCFA093B9426894A4BC6278</td>\n      <td>1A5F779E7C56E50D1430D66836D8C3F9</td>\n      <td>FEDAAE09DAA192C006445467656BDE9C</td>\n      <td>44AFB24D55CC154B04691EC42F3BA6E5</td>\n    </tr>\n    <tr>\n      <th>44877</th>\n      <td>1</td>\n      <td>-1</td>\n      <td>2020-08-04 16:47:27</td>\n      <td>-1</td>\n      <td>8.00</td>\n      <td>-1</td>\n      <td>D7D1FB49049702BF6338894757E0D959</td>\n      <td>-1</td>\n      <td>-1</td>\n      <td>-1</td>\n      <td>-1</td>\n      <td>-1</td>\n      <td>-1</td>\n      <td>-1</td>\n      <td>-1</td>\n      <td>-1</td>\n      <td>-1</td>\n      <td>CDD0D3B397AE6CEF57D555B7B7ABDD96</td>\n      <td>2A00AA66FA808095B9132ACE29BAEB32</td>\n    </tr>\n    <tr>\n      <th>45718</th>\n      <td>1</td>\n      <td>-1</td>\n      <td>2020-08-04 04:15:16</td>\n      <td>-1</td>\n      <td>30.92</td>\n      <td>-1</td>\n      <td>7E56C27BFF0305E788DA55A029EC4988</td>\n      <td>-1</td>\n      <td>-1</td>\n      <td>-1</td>\n      <td>-1</td>\n      <td>-1</td>\n      <td>-1</td>\n      <td>-1</td>\n      <td>-1</td>\n      <td>57A1D462A03BD076E029CF9310C11FC5</td>\n      <td>93E3736C0AF2F37E4DCC8893A0732FD9</td>\n      <td>E3DDEB04F8AFF944B11943BB57D2F620</td>\n      <td>B3E2325DB9CB4383BC39C98CCBA69AC9</td>\n    </tr>\n    <tr>\n      <th>45919</th>\n      <td>1</td>\n      <td>-1</td>\n      <td>2020-08-04 17:00:28</td>\n      <td>-1</td>\n      <td>0.00</td>\n      <td>-1</td>\n      <td>7E56C27BFF0305E788DA55A029EC4988</td>\n      <td>-1</td>\n      <td>-1</td>\n      <td>-1</td>\n      <td>-1</td>\n      <td>-1</td>\n      <td>-1</td>\n      <td>-1</td>\n      <td>-1</td>\n      <td>-1</td>\n      <td>-1</td>\n      <td>B926E8E57093C0E2867B170A37D45682</td>\n      <td>58E514D4BC5128C0A7C4FE29A5EC6C6F</td>\n    </tr>\n    <tr>\n      <th>51495</th>\n      <td>1</td>\n      <td>-1</td>\n      <td>2020-08-03 07:32:09</td>\n      <td>-1</td>\n      <td>1.00</td>\n      <td>-1</td>\n      <td>7E56C27BFF0305E788DA55A029EC4988</td>\n      <td>-1</td>\n      <td>-1</td>\n      <td>-1</td>\n      <td>-1</td>\n      <td>-1</td>\n      <td>-1</td>\n      <td>-1</td>\n      <td>-1</td>\n      <td>-1</td>\n      <td>-1</td>\n      <td>C13DEAF04388B219AC04416DF3DA0ED8</td>\n      <td>4FF524D1D46E9A396F9574D783DDA44E</td>\n    </tr>\n    <tr>\n      <th>51721</th>\n      <td>1</td>\n      <td>-1</td>\n      <td>2020-08-03 15:21:07</td>\n      <td>-1</td>\n      <td>1.00</td>\n      <td>-1</td>\n      <td>D7D1FB49049702BF6338894757E0D959</td>\n      <td>-1</td>\n      <td>-1</td>\n      <td>-1</td>\n      <td>-1</td>\n      <td>-1</td>\n      <td>-1</td>\n      <td>-1</td>\n      <td>-1</td>\n      <td>-1</td>\n      <td>-1</td>\n      <td>08FA5A96EE7FB09BD4718ADFE9AD6031</td>\n      <td>A6BC07A2E9BD0C90C65FBC5A0328FE6D</td>\n    </tr>\n    <tr>\n      <th>56108</th>\n      <td>1</td>\n      <td>-1</td>\n      <td>2020-08-04 01:48:17</td>\n      <td>3</td>\n      <td>229.90</td>\n      <td>4C90FD52FC53D2C1C205844CB69575AB</td>\n      <td>7E56C27BFF0305E788DA55A029EC4988</td>\n      <td>1B491180398E2F0390E6A588B3BCE291</td>\n      <td>7B77DCEDF23DCF7996D58C7BE859E365</td>\n      <td>033E492229C2222EFAA16EE8A6462D8B</td>\n      <td>CD599E5A946D00A81A875E085F7EF1E8</td>\n      <td>-1</td>\n      <td>-1</td>\n      <td>-1</td>\n      <td>-1</td>\n      <td>989EEF92F2A525DD896557425EA7C4C7</td>\n      <td>23F7E2E6DA5CEE0C6F4FECE4E51E4B69</td>\n      <td>F0FD783189F55BAFC331AD347EAE6863</td>\n      <td>0DA4C0F27D9AE67BDAF73C3EFD52E0BD</td>\n    </tr>\n    <tr>\n      <th>56180</th>\n      <td>1</td>\n      <td>-1</td>\n      <td>2020-08-03 15:12:52</td>\n      <td>-1</td>\n      <td>24.96</td>\n      <td>-1</td>\n      <td>FF2C446555E3822B0E0FC3406116E86D</td>\n      <td>-1</td>\n      <td>-1</td>\n      <td>-1</td>\n      <td>-1</td>\n      <td>-1</td>\n      <td>-1</td>\n      <td>-1</td>\n      <td>-1</td>\n      <td>57A1D462A03BD076E029CF9310C11FC5</td>\n      <td>095B4109698D5E612B44575995282E87</td>\n      <td>E3DDEB04F8AFF944B11943BB57D2F620</td>\n      <td>EEFB0A15EEAB164EF2DF0947DD465562</td>\n    </tr>\n    <tr>\n      <th>56234</th>\n      <td>1</td>\n      <td>-1</td>\n      <td>2020-08-03 16:46:17</td>\n      <td>-1</td>\n      <td>0.00</td>\n      <td>-1</td>\n      <td>D7D1FB49049702BF6338894757E0D959</td>\n      <td>-1</td>\n      <td>-1</td>\n      <td>-1</td>\n      <td>-1</td>\n      <td>-1</td>\n      <td>-1</td>\n      <td>-1</td>\n      <td>-1</td>\n      <td>-1</td>\n      <td>-1</td>\n      <td>B926E8E57093C0E2867B170A37D45682</td>\n      <td>24874A10895AAB5ABFC1D58F7E0DB7DC</td>\n    </tr>\n    <tr>\n      <th>59045</th>\n      <td>1</td>\n      <td>-1</td>\n      <td>2020-08-04 02:24:28</td>\n      <td>-1</td>\n      <td>69.99</td>\n      <td>-1</td>\n      <td>D7D1FB49049702BF6338894757E0D959</td>\n      <td>-1</td>\n      <td>-1</td>\n      <td>-1</td>\n      <td>-1</td>\n      <td>-1</td>\n      <td>-1</td>\n      <td>-1</td>\n      <td>-1</td>\n      <td>-1</td>\n      <td>-1</td>\n      <td>9946AE215D24E4E0CD9268ECB054EBC8</td>\n      <td>B1F99A8637C840D61DFD89771609701B</td>\n    </tr>\n    <tr>\n      <th>60390</th>\n      <td>1</td>\n      <td>-1</td>\n      <td>2020-08-04 09:25:04</td>\n      <td>-1</td>\n      <td>0.00</td>\n      <td>-1</td>\n      <td>D7D1FB49049702BF6338894757E0D959</td>\n      <td>-1</td>\n      <td>-1</td>\n      <td>-1</td>\n      <td>-1</td>\n      <td>-1</td>\n      <td>-1</td>\n      <td>-1</td>\n      <td>-1</td>\n      <td>-1</td>\n      <td>-1</td>\n      <td>95F6B7BA0BA90E5D5DF1CC063390BA51</td>\n      <td>6D191D842A674BE6957DF8CC069C06AF</td>\n    </tr>\n    <tr>\n      <th>62198</th>\n      <td>1</td>\n      <td>-1</td>\n      <td>2020-08-04 02:29:37</td>\n      <td>190</td>\n      <td>12.60</td>\n      <td>E7BD5A29457B8E92582951B586319A9C</td>\n      <td>D7D1FB49049702BF6338894757E0D959</td>\n      <td>A5D15FC386510762EC0DDFF54ABE6F94</td>\n      <td>4B31DA8286F17ED3018BAB1C172F8124</td>\n      <td>EC997D43AC86A75D9B88A1051F86A67C</td>\n      <td>1CA629F8F10B2541E08A1A994CDA0F1D</td>\n      <td>F791095E78AAC9F6A0C9D4948E6AA729</td>\n      <td>E970B6E90DCE5E7769360E6BD6532433</td>\n      <td>3AC704002CAD97CF63081B48A7045B1D</td>\n      <td>-1</td>\n      <td>D963E3BCE149E71F5D5E3000DCF68A9F</td>\n      <td>2B14BBE62860C1B2321060A2DC626AAD</td>\n      <td>F122B91F6D102E4630817566839A4F1F</td>\n      <td>FBD7AC02A581C1F13B5AB738CDE29902</td>\n    </tr>\n    <tr>\n      <th>64416</th>\n      <td>1</td>\n      <td>-1</td>\n      <td>2020-08-04 16:18:06</td>\n      <td>305</td>\n      <td>74.19</td>\n      <td>-1</td>\n      <td>D7D1FB49049702BF6338894757E0D959</td>\n      <td>-1</td>\n      <td>-1</td>\n      <td>62D6A49514020FA0B2E434DB0B506005</td>\n      <td>41DF6386116137A19E7DBC07CE44C95A</td>\n      <td>0C794498732FC4833A4B7F29F8F072E3</td>\n      <td>-1</td>\n      <td>-1</td>\n      <td>-1</td>\n      <td>57A1D462A03BD076E029CF9310C11FC5</td>\n      <td>1A6F2A6DD40044403B9129DF5E511373</td>\n      <td>E3DDEB04F8AFF944B11943BB57D2F620</td>\n      <td>CBC766B78DACE5DEB909CF2234839C0F</td>\n    </tr>\n    <tr>\n      <th>64510</th>\n      <td>1</td>\n      <td>-1</td>\n      <td>2020-08-04 16:43:18</td>\n      <td>-1</td>\n      <td>0.00</td>\n      <td>-1</td>\n      <td>D7D1FB49049702BF6338894757E0D959</td>\n      <td>-1</td>\n      <td>-1</td>\n      <td>-1</td>\n      <td>-1</td>\n      <td>-1</td>\n      <td>-1</td>\n      <td>-1</td>\n      <td>-1</td>\n      <td>-1</td>\n      <td>-1</td>\n      <td>B926E8E57093C0E2867B170A37D45682</td>\n      <td>A0ACF41E600446CD8D2026183E98AF13</td>\n    </tr>\n    <tr>\n      <th>66307</th>\n      <td>1</td>\n      <td>-1</td>\n      <td>2020-08-04 00:40:55</td>\n      <td>0</td>\n      <td>119.99</td>\n      <td>4C90FD52FC53D2C1C205844CB69575AB</td>\n      <td>D7D1FB49049702BF6338894757E0D959</td>\n      <td>C45A9AC6D102ACAEEDF0D6F78636D84A</td>\n      <td>271B3C1DD6DC0D06C67B540F4257F6F7</td>\n      <td>033E492229C2222EFAA16EE8A6462D8B</td>\n      <td>CD599E5A946D00A81A875E085F7EF1E8</td>\n      <td>-1</td>\n      <td>-1</td>\n      <td>-1</td>\n      <td>-1</td>\n      <td>D963E3BCE149E71F5D5E3000DCF68A9F</td>\n      <td>1B11C93FFE249906A6EFF798E82D7E33</td>\n      <td>66643A46398D28F68F00DF71DEAA71D3</td>\n      <td>1B1E273F85A87A3BA09E4E8EECD1CA41</td>\n    </tr>\n    <tr>\n      <th>66947</th>\n      <td>1</td>\n      <td>-1</td>\n      <td>2020-08-03 16:17:40</td>\n      <td>-1</td>\n      <td>0.00</td>\n      <td>-1</td>\n      <td>7E56C27BFF0305E788DA55A029EC4988</td>\n      <td>-1</td>\n      <td>-1</td>\n      <td>-1</td>\n      <td>-1</td>\n      <td>-1</td>\n      <td>-1</td>\n      <td>-1</td>\n      <td>-1</td>\n      <td>-1</td>\n      <td>-1</td>\n      <td>B926E8E57093C0E2867B170A37D45682</td>\n      <td>2F07C33DAB239AF5CCC316C5F6A732AB</td>\n    </tr>\n    <tr>\n      <th>67209</th>\n      <td>1</td>\n      <td>-1</td>\n      <td>2020-08-04 03:25:10</td>\n      <td>73</td>\n      <td>24.03</td>\n      <td>-1</td>\n      <td>7E56C27BFF0305E788DA55A029EC4988</td>\n      <td>-1</td>\n      <td>-1</td>\n      <td>7532B3FBAFEC164460C4ED6FEB0C022C</td>\n      <td>CF4A1E27D7961B7728CDCB3EE346BC36</td>\n      <td>-1</td>\n      <td>-1</td>\n      <td>-1</td>\n      <td>-1</td>\n      <td>57A1D462A03BD076E029CF9310C11FC5</td>\n      <td>9AFE0ED4F0F6FCDCE495430999720C4B</td>\n      <td>E3DDEB04F8AFF944B11943BB57D2F620</td>\n      <td>4838BF9EF8E3C362C810B2FDF1736324</td>\n    </tr>\n    <tr>\n      <th>70296</th>\n      <td>1</td>\n      <td>-1</td>\n      <td>2020-08-04 02:42:16</td>\n      <td>11</td>\n      <td>10.04</td>\n      <td>921B36149E5B081FD24450BFE2CE4430</td>\n      <td>7E56C27BFF0305E788DA55A029EC4988</td>\n      <td>A5D15FC386510762EC0DDFF54ABE6F94</td>\n      <td>67DA7719163A1E0C5D5D9F487B948090</td>\n      <td>B4B45C6CE5FC4DE45AB02974D8849DBD</td>\n      <td>A78952B21B4165ADA2189AE66887E2F1</td>\n      <td>30131E72F860C21850E0F2BB16B862DF</td>\n      <td>DEA264F25D42443544D3F50C3EA01319</td>\n      <td>-1</td>\n      <td>-1</td>\n      <td>D963E3BCE149E71F5D5E3000DCF68A9F</td>\n      <td>4CC7927DF5C73E136D03BDE7BDC11ABE</td>\n      <td>F122B91F6D102E4630817566839A4F1F</td>\n      <td>482E6E9E4444A5265EB425DA69787954</td>\n    </tr>\n    <tr>\n      <th>70390</th>\n      <td>1</td>\n      <td>-1</td>\n      <td>2020-08-03 21:55:49</td>\n      <td>15</td>\n      <td>29.08</td>\n      <td>-1</td>\n      <td>7E56C27BFF0305E788DA55A029EC4988</td>\n      <td>-1</td>\n      <td>-1</td>\n      <td>7F286560861764CCB93C90B7AA833949</td>\n      <td>939A40D09BD05A13C32B381245670495</td>\n      <td>87E33E0563FFE783FB56D01E7E09E692</td>\n      <td>CD1E49DD862EA6C793F1AC18C9A2ED0D</td>\n      <td>-1</td>\n      <td>-1</td>\n      <td>57A1D462A03BD076E029CF9310C11FC5</td>\n      <td>BF9837462F09B8BC9659A6345D942226</td>\n      <td>E3DDEB04F8AFF944B11943BB57D2F620</td>\n      <td>712AED325572DAB3D98DF59D455C7E13</td>\n    </tr>\n    <tr>\n      <th>73778</th>\n      <td>1</td>\n      <td>-1</td>\n      <td>2020-08-04 16:01:09</td>\n      <td>153</td>\n      <td>39.50</td>\n      <td>921B36149E5B081FD24450BFE2CE4430</td>\n      <td>7E56C27BFF0305E788DA55A029EC4988</td>\n      <td>A5D15FC386510762EC0DDFF54ABE6F94</td>\n      <td>A22E951A8878419B87D272B693094495</td>\n      <td>E02400CDAD96905D88E932FE9B7D3552</td>\n      <td>4295BE0EC68D12EDB7D771310069C493</td>\n      <td>F65E84139E30EFFADA597CCFC9D654BA</td>\n      <td>-1</td>\n      <td>-1</td>\n      <td>-1</td>\n      <td>D963E3BCE149E71F5D5E3000DCF68A9F</td>\n      <td>20DB44BD5CAD276B3C5F624B73140313</td>\n      <td>F122B91F6D102E4630817566839A4F1F</td>\n      <td>B7A62354DBF2026EBF0CE4961CEF1E51</td>\n    </tr>\n    <tr>\n      <th>76828</th>\n      <td>1</td>\n      <td>-1</td>\n      <td>2020-08-04 00:30:29</td>\n      <td>165</td>\n      <td>249.34</td>\n      <td>-1</td>\n      <td>FF2C446555E3822B0E0FC3406116E86D</td>\n      <td>-1</td>\n      <td>-1</td>\n      <td>7F286560861764CCB93C90B7AA833949</td>\n      <td>1F6AAFDE07FBA5DB92C77840C8E85736</td>\n      <td>C6563262839F52510505AD315C4DE1B1</td>\n      <td>-1</td>\n      <td>-1</td>\n      <td>-1</td>\n      <td>57A1D462A03BD076E029CF9310C11FC5</td>\n      <td>A38852F65DD353297125796EE354C0E0</td>\n      <td>E3DDEB04F8AFF944B11943BB57D2F620</td>\n      <td>04009A7555170B6B74B7F4947078C8F4</td>\n    </tr>\n    <tr>\n      <th>80710</th>\n      <td>1</td>\n      <td>-1</td>\n      <td>2020-08-04 02:21:38</td>\n      <td>0</td>\n      <td>104.74</td>\n      <td>-1</td>\n      <td>7E56C27BFF0305E788DA55A029EC4988</td>\n      <td>-1</td>\n      <td>-1</td>\n      <td>E02400CDAD96905D88E932FE9B7D3552</td>\n      <td>08D39006D3116AA1341D32F06499EA72</td>\n      <td>17D8257F946C29C31B2BDD955D8F4F48</td>\n      <td>-1</td>\n      <td>-1</td>\n      <td>-1</td>\n      <td>57A1D462A03BD076E029CF9310C11FC5</td>\n      <td>1A05B0220A90222D114E28D6DD89BD2D</td>\n      <td>E3DDEB04F8AFF944B11943BB57D2F620</td>\n      <td>1988757192B3C9622605C4042E2FA643</td>\n    </tr>\n    <tr>\n      <th>80817</th>\n      <td>1</td>\n      <td>-1</td>\n      <td>2020-08-04 07:36:08</td>\n      <td>74</td>\n      <td>35.99</td>\n      <td>4C90FD52FC53D2C1C205844CB69575AB</td>\n      <td>FF2C446555E3822B0E0FC3406116E86D</td>\n      <td>1B491180398E2F0390E6A588B3BCE291</td>\n      <td>2EAD40F255F9BBA39801F051EE138A8E</td>\n      <td>7F286560861764CCB93C90B7AA833949</td>\n      <td>891EE660A73D9A6E1F4BD6149E613C44</td>\n      <td>0279CBF3081FFB710CE52B9E0BA4AABF</td>\n      <td>68DD5FFC49801353AA4A4B1172169F53</td>\n      <td>-1</td>\n      <td>-1</td>\n      <td>2AC62132FBCFA093B9426894A4BC6278</td>\n      <td>32D8E7430A60DAF69E03255D2815CAFC</td>\n      <td>925829CF82DFDC74DE3F88F003CE7BEF</td>\n      <td>FE03E0ED8F7656EC8BEECCB7811781D0</td>\n    </tr>\n    <tr>\n      <th>82772</th>\n      <td>1</td>\n      <td>-1</td>\n      <td>2020-08-03 19:43:06</td>\n      <td>21</td>\n      <td>25.00</td>\n      <td>4C90FD52FC53D2C1C205844CB69575AB</td>\n      <td>FF2C446555E3822B0E0FC3406116E86D</td>\n      <td>1B491180398E2F0390E6A588B3BCE291</td>\n      <td>05F88AFBDD21B32DEF06CAFC314AAF49</td>\n      <td>033E492229C2222EFAA16EE8A6462D8B</td>\n      <td>77FFC91A6157E50A0A114135F18BB1DB</td>\n      <td>C08050B58F54FA81F4580ECE15296698</td>\n      <td>067525A83E1875CB1828F4F9ADC752F6</td>\n      <td>-1</td>\n      <td>-1</td>\n      <td>B1D897877EBD2BCE4A722DF0581CDAF5</td>\n      <td>7FC64EB9968F8CC3F1CBDE22C0213C4D</td>\n      <td>0225D81C97298F6FD63C8868EE8E2228</td>\n      <td>0FCEADB692299A07E8024D42BB460146</td>\n    </tr>\n    <tr>\n      <th>83531</th>\n      <td>1</td>\n      <td>-1</td>\n      <td>2020-08-03 14:59:21</td>\n      <td>160</td>\n      <td>225.83</td>\n      <td>-1</td>\n      <td>7E56C27BFF0305E788DA55A029EC4988</td>\n      <td>-1</td>\n      <td>-1</td>\n      <td>7F286560861764CCB93C90B7AA833949</td>\n      <td>939A40D09BD05A13C32B381245670495</td>\n      <td>87E33E0563FFE783FB56D01E7E09E692</td>\n      <td>64FB60A342CF51C1F55F43119FFA9C2F</td>\n      <td>-1</td>\n      <td>-1</td>\n      <td>57A1D462A03BD076E029CF9310C11FC5</td>\n      <td>AB1924A57AB7B84E93947DA3AFCCFA22</td>\n      <td>E3DDEB04F8AFF944B11943BB57D2F620</td>\n      <td>B4D58A1C58851078112A10245F240886</td>\n    </tr>\n    <tr>\n      <th>85320</th>\n      <td>1</td>\n      <td>-1</td>\n      <td>2020-08-03 17:39:38</td>\n      <td>-1</td>\n      <td>23.00</td>\n      <td>-1</td>\n      <td>7E56C27BFF0305E788DA55A029EC4988</td>\n      <td>-1</td>\n      <td>-1</td>\n      <td>-1</td>\n      <td>-1</td>\n      <td>-1</td>\n      <td>-1</td>\n      <td>-1</td>\n      <td>-1</td>\n      <td>2AC62132FBCFA093B9426894A4BC6278</td>\n      <td>1F7B30A771C22F7A47AC37C876F413DD</td>\n      <td>53A30763612E8A0DF4861CD4A0770B89</td>\n      <td>96EF3CD6674855E9277E39D6F5E2FFDA</td>\n    </tr>\n    <tr>\n      <th>94263</th>\n      <td>1</td>\n      <td>-1</td>\n      <td>2020-08-04 01:21:23</td>\n      <td>3</td>\n      <td>89.00</td>\n      <td>4C90FD52FC53D2C1C205844CB69575AB</td>\n      <td>D7D1FB49049702BF6338894757E0D959</td>\n      <td>1B491180398E2F0390E6A588B3BCE291</td>\n      <td>B2E872D4A7815DCA14D3412EB78D3457</td>\n      <td>033E492229C2222EFAA16EE8A6462D8B</td>\n      <td>0F5AE38AFC0210BAE65C4C9491339B08</td>\n      <td>EB1EB6A03897A9F48C11FAA728F829F4</td>\n      <td>-1</td>\n      <td>-1</td>\n      <td>-1</td>\n      <td>2AC62132FBCFA093B9426894A4BC6278</td>\n      <td>8C04FC616830DDBB1965A2C84EA64DAF</td>\n      <td>319A2412BDB0EF669733053640B80112</td>\n      <td>7F74D5C9E14A8F6B6B1B791A2689105F</td>\n    </tr>\n    <tr>\n      <th>95793</th>\n      <td>1</td>\n      <td>-1</td>\n      <td>2020-08-04 02:49:58</td>\n      <td>11</td>\n      <td>8.36</td>\n      <td>921B36149E5B081FD24450BFE2CE4430</td>\n      <td>7E56C27BFF0305E788DA55A029EC4988</td>\n      <td>A5D15FC386510762EC0DDFF54ABE6F94</td>\n      <td>67DA7719163A1E0C5D5D9F487B948090</td>\n      <td>B4B45C6CE5FC4DE45AB02974D8849DBD</td>\n      <td>A78952B21B4165ADA2189AE66887E2F1</td>\n      <td>30131E72F860C21850E0F2BB16B862DF</td>\n      <td>DEA264F25D42443544D3F50C3EA01319</td>\n      <td>-1</td>\n      <td>-1</td>\n      <td>D963E3BCE149E71F5D5E3000DCF68A9F</td>\n      <td>4CC7927DF5C73E136D03BDE7BDC11ABE</td>\n      <td>F122B91F6D102E4630817566839A4F1F</td>\n      <td>BE2DC05A7033BED4A8BA30BF8637C7CF</td>\n    </tr>\n    <tr>\n      <th>96333</th>\n      <td>1</td>\n      <td>-1</td>\n      <td>2020-08-04 05:01:55</td>\n      <td>5</td>\n      <td>28.63</td>\n      <td>-1</td>\n      <td>D7D1FB49049702BF6338894757E0D959</td>\n      <td>-1</td>\n      <td>-1</td>\n      <td>E02400CDAD96905D88E932FE9B7D3552</td>\n      <td>791FBB12E44C1CAB7AFFD314326EBD00</td>\n      <td>CED079169908C44DFC124BE46743BD64</td>\n      <td>-1</td>\n      <td>-1</td>\n      <td>-1</td>\n      <td>57A1D462A03BD076E029CF9310C11FC5</td>\n      <td>746F7C53B0C9A6283EA68D46EB9E5BA7</td>\n      <td>E3DDEB04F8AFF944B11943BB57D2F620</td>\n      <td>BAB2ABAE81BB47D13BF586639C269688</td>\n    </tr>\n    <tr>\n      <th>96918</th>\n      <td>1</td>\n      <td>-1</td>\n      <td>2020-08-04 13:42:06</td>\n      <td>20</td>\n      <td>119.90</td>\n      <td>-1</td>\n      <td>7E56C27BFF0305E788DA55A029EC4988</td>\n      <td>-1</td>\n      <td>6980438F56CD0C4082D5706FE1A2BD11</td>\n      <td>88CED8BA3AA711A20ACF8B1FC574F218</td>\n      <td>A666065FA8B25F44A04AFF2C04CF3491</td>\n      <td>02556650A06833121D207D46D5237BB1</td>\n      <td>-1</td>\n      <td>-1</td>\n      <td>-1</td>\n      <td>989EEF92F2A525DD896557425EA7C4C7</td>\n      <td>99CB59DF5C2C9E58A43B24425029E23E</td>\n      <td>2F13BB7176EBE22D37B5AFB3C814FE12</td>\n      <td>384ACB5AF66E006A7DB9BFE8D40B17B8</td>\n    </tr>\n    <tr>\n      <th>97144</th>\n      <td>1</td>\n      <td>-1</td>\n      <td>2020-08-04 12:49:10</td>\n      <td>-1</td>\n      <td>82.92</td>\n      <td>-1</td>\n      <td>D7D1FB49049702BF6338894757E0D959</td>\n      <td>-1</td>\n      <td>-1</td>\n      <td>-1</td>\n      <td>-1</td>\n      <td>-1</td>\n      <td>-1</td>\n      <td>-1</td>\n      <td>-1</td>\n      <td>57A1D462A03BD076E029CF9310C11FC5</td>\n      <td>3F773169A09D92A528AB2644A7FC22F4</td>\n      <td>E3DDEB04F8AFF944B11943BB57D2F620</td>\n      <td>23BAD39DD8620D6F0B93E236EC1ED125</td>\n    </tr>\n    <tr>\n      <th>97579</th>\n      <td>1</td>\n      <td>-1</td>\n      <td>2020-08-04 05:55:45</td>\n      <td>86</td>\n      <td>31.50</td>\n      <td>4C90FD52FC53D2C1C205844CB69575AB</td>\n      <td>7E56C27BFF0305E788DA55A029EC4988</td>\n      <td>1B491180398E2F0390E6A588B3BCE291</td>\n      <td>05F88AFBDD21B32DEF06CAFC314AAF49</td>\n      <td>033E492229C2222EFAA16EE8A6462D8B</td>\n      <td>77FFC91A6157E50A0A114135F18BB1DB</td>\n      <td>FAE775DB79B7E40FB3E581B2755783A4</td>\n      <td>-1</td>\n      <td>-1</td>\n      <td>-1</td>\n      <td>B1D897877EBD2BCE4A722DF0581CDAF5</td>\n      <td>12897671825723C977F78B8B151E9404</td>\n      <td>0225D81C97298F6FD63C8868EE8E2228</td>\n      <td>8DA929A412FC5DCD12A0864BFF992019</td>\n    </tr>\n    <tr>\n      <th>99136</th>\n      <td>1</td>\n      <td>-1</td>\n      <td>2020-08-03 15:07:54</td>\n      <td>6</td>\n      <td>299.90</td>\n      <td>4C90FD52FC53D2C1C205844CB69575AB</td>\n      <td>7E56C27BFF0305E788DA55A029EC4988</td>\n      <td>1B491180398E2F0390E6A588B3BCE291</td>\n      <td>09D61FD4DFD439F271ABC38B7C4852F9</td>\n      <td>033E492229C2222EFAA16EE8A6462D8B</td>\n      <td>CD599E5A946D00A81A875E085F7EF1E8</td>\n      <td>-1</td>\n      <td>-1</td>\n      <td>-1</td>\n      <td>-1</td>\n      <td>989EEF92F2A525DD896557425EA7C4C7</td>\n      <td>FDB1DE98EAD50B57EF33D37FAA3BC576</td>\n      <td>F0FD783189F55BAFC331AD347EAE6863</td>\n      <td>1A25AEB186F23EB984D57CF02F38852A</td>\n    </tr>\n  </tbody>\n</table>\n</div>"
     },
     "execution_count": 24,
     "metadata": {},
     "output_type": "execute_result"
    }
   ],
   "source": [
    "df_dropped = df\n",
    "\n",
    "sold = list(df_dropped['Sale'] == 1)\n",
    "drop_list = []\n",
    "for feature in df_dropped.columns:\n",
    "    if feature == 'Sale':\n",
    "        continue\n",
    "    elif feature == 'product_price' or feature == 'click_timestamp':\n",
    "        not_null = list(df_dropped[feature] != 0)\n",
    "        if sold == not_null:\n",
    "            drop_list.append(feature)\n",
    "    else:\n",
    "        not_null = list(df_dropped[feature] != -1)\n",
    "        if feature == 'time_delay_for_conversion':\n",
    "            index = []\n",
    "            for i in range(len(not_null)):\n",
    "                if not_null[i] != sold[i]:\n",
    "                    index.append(i)\n",
    "\n",
    "        if sold == not_null:\n",
    "            drop_list.append(feature)\n",
    "print(drop_list)\n",
    "df_dropped = df_dropped.drop(drop_list, axis=1)\n",
    "#df_dropped.head()\n",
    "df_dropped.loc[index]"
   ]
  },
  {
   "cell_type": "markdown",
   "metadata": {},
   "source": [
    "## Imputation Missing Datas"
   ]
  },
  {
   "cell_type": "markdown",
   "metadata": {},
   "source": [
    "> #### Required Libraries"
   ]
  },
  {
   "cell_type": "code",
   "execution_count": 27,
   "metadata": {
    "pycharm": {
     "name": "#%%\n"
    }
   },
   "outputs": [],
   "source": [
    "# To use this experimental feature, we need to explicitly ask for it:\n",
    "from sklearn.experimental import enable_iterative_imputer\n",
    "from sklearn.datasets import fetch_california_housing\n",
    "from sklearn.impute import SimpleImputer\n",
    "from sklearn.impute import IterativeImputer\n",
    "from sklearn.linear_model import BayesianRidge\n",
    "from sklearn.tree import DecisionTreeRegressor\n",
    "from sklearn.ensemble import ExtraTreesRegressor, RandomForestRegressor, ExtraTreesClassifier, RandomForestClassifier\n",
    "from sklearn.neighbors import KNeighborsRegressor, KNeighborsClassifier\n",
    "from sklearn.model_selection import cross_val_score\n",
    "from pandas.api.types import is_numeric_dtype\n",
    "from sklearn.preprocessing import LabelEncoder, OrdinalEncoder"
   ]
  },
  {
   "cell_type": "markdown",
   "metadata": {},
   "source": [
    "> #### Main Code"
   ]
  },
  {
   "cell_type": "code",
   "execution_count": 30,
   "metadata": {
    "pycharm": {
     "name": "#%%\n"
    }
   },
   "outputs": [
    {
     "data": {
      "text/plain": "                                 product_age_group device_type product_gender  \\\n0000FF7BF953B3D7281341F4C7B98E56                 -           -              -   \n00011AB400BCC95F3CCAF0779669E61C                 -           -              -   \n000158282ACE81B560694CBC1AA8EF8E                 -           -              -   \n00017F6C780F948ED3D61F8312618978                 -           -              -   \n000190215E00C3D5AF4E421CB2468C65                 -           -              -   \n...                                            ...         ...            ...   \nFFFF8E415120D1B5424786E1085D12BD                 -           -              -   \nFFFFE3EC68D8E06C3CE530F84D2E30FF                 -           -              -   \nn of not exist values                        75603          39          75554   \np of not exist values                       75.603       0.039         75.554   \nn of unique values                               8           3             10   \n\n                                 product_brand product_category(1)  \\\n0000FF7BF953B3D7281341F4C7B98E56             -                   -   \n00011AB400BCC95F3CCAF0779669E61C             -                   -   \n000158282ACE81B560694CBC1AA8EF8E             -                   -   \n00017F6C780F948ED3D61F8312618978             -                   -   \n000190215E00C3D5AF4E421CB2468C65             -                   -   \n...                                        ...                 ...   \nFFFF8E415120D1B5424786E1085D12BD             -                   -   \nFFFFE3EC68D8E06C3CE530F84D2E30FF             -                   -   \nn of not exist values                    65800               45502   \np of not exist values                     65.8              45.502   \nn of unique values                        4769                  21   \n\n                                 product_category(2) product_category(3)  \\\n0000FF7BF953B3D7281341F4C7B98E56                   -                   -   \n00011AB400BCC95F3CCAF0779669E61C                   -                   -   \n000158282ACE81B560694CBC1AA8EF8E                   -                   -   \n00017F6C780F948ED3D61F8312618978                   -                   -   \n000190215E00C3D5AF4E421CB2468C65                   -                   -   \n...                                              ...                 ...   \nFFFF8E415120D1B5424786E1085D12BD                   -                   -   \nFFFFE3EC68D8E06C3CE530F84D2E30FF                   -                   -   \nn of not exist values                          45517               52316   \np of not exist values                         45.517              52.316   \nn of unique values                               144                 698   \n\n                                 product_category(4) product_category(5)  \\\n0000FF7BF953B3D7281341F4C7B98E56                   -                   -   \n00011AB400BCC95F3CCAF0779669E61C                   -                   -   \n000158282ACE81B560694CBC1AA8EF8E                   -                   -   \n00017F6C780F948ED3D61F8312618978                   -                   -   \n000190215E00C3D5AF4E421CB2468C65                   -                   -   \n...                                              ...                 ...   \nFFFF8E415120D1B5424786E1085D12BD                   -                   -   \nFFFFE3EC68D8E06C3CE530F84D2E30FF                   -                   -   \nn of not exist values                          71222               92009   \np of not exist values                         71.222              92.009   \nn of unique values                               909                 441   \n\n                                 product_category(6) product_country  \\\n0000FF7BF953B3D7281341F4C7B98E56                   -               -   \n00011AB400BCC95F3CCAF0779669E61C                   -               -   \n000158282ACE81B560694CBC1AA8EF8E                   -               -   \n00017F6C780F948ED3D61F8312618978                   -               -   \n000190215E00C3D5AF4E421CB2468C65                   -               -   \n...                                              ...             ...   \nFFFF8E415120D1B5424786E1085D12BD                   -               -   \nFFFFE3EC68D8E06C3CE530F84D2E30FF                   -               -   \nn of not exist values                          98832           23754   \np of not exist values                         98.832          23.754   \nn of unique values                                88              16   \n\n                                 product_id partner_id user_id  \n0000FF7BF953B3D7281341F4C7B98E56        1.0          -       -  \n00011AB400BCC95F3CCAF0779669E61C        1.0          -       -  \n000158282ACE81B560694CBC1AA8EF8E        1.0          -       -  \n00017F6C780F948ED3D61F8312618978          -          -     1.0  \n000190215E00C3D5AF4E421CB2468C65          -          -     1.0  \n...                                     ...        ...     ...  \nFFFF8E415120D1B5424786E1085D12BD          -          -     1.0  \nFFFFE3EC68D8E06C3CE530F84D2E30FF          -          -     1.0  \nn of not exist values                 23714          0       0  \np of not exist values                23.714        0.0     0.0  \nn of unique values                    45446        183   96766  \n\n[149205 rows x 14 columns]",
      "text/html": "<div>\n<style scoped>\n    .dataframe tbody tr th:only-of-type {\n        vertical-align: middle;\n    }\n\n    .dataframe tbody tr th {\n        vertical-align: top;\n    }\n\n    .dataframe thead th {\n        text-align: right;\n    }\n</style>\n<table border=\"1\" class=\"dataframe\">\n  <thead>\n    <tr style=\"text-align: right;\">\n      <th></th>\n      <th>product_age_group</th>\n      <th>device_type</th>\n      <th>product_gender</th>\n      <th>product_brand</th>\n      <th>product_category(1)</th>\n      <th>product_category(2)</th>\n      <th>product_category(3)</th>\n      <th>product_category(4)</th>\n      <th>product_category(5)</th>\n      <th>product_category(6)</th>\n      <th>product_country</th>\n      <th>product_id</th>\n      <th>partner_id</th>\n      <th>user_id</th>\n    </tr>\n  </thead>\n  <tbody>\n    <tr>\n      <th>0000FF7BF953B3D7281341F4C7B98E56</th>\n      <td>-</td>\n      <td>-</td>\n      <td>-</td>\n      <td>-</td>\n      <td>-</td>\n      <td>-</td>\n      <td>-</td>\n      <td>-</td>\n      <td>-</td>\n      <td>-</td>\n      <td>-</td>\n      <td>1.0</td>\n      <td>-</td>\n      <td>-</td>\n    </tr>\n    <tr>\n      <th>00011AB400BCC95F3CCAF0779669E61C</th>\n      <td>-</td>\n      <td>-</td>\n      <td>-</td>\n      <td>-</td>\n      <td>-</td>\n      <td>-</td>\n      <td>-</td>\n      <td>-</td>\n      <td>-</td>\n      <td>-</td>\n      <td>-</td>\n      <td>1.0</td>\n      <td>-</td>\n      <td>-</td>\n    </tr>\n    <tr>\n      <th>000158282ACE81B560694CBC1AA8EF8E</th>\n      <td>-</td>\n      <td>-</td>\n      <td>-</td>\n      <td>-</td>\n      <td>-</td>\n      <td>-</td>\n      <td>-</td>\n      <td>-</td>\n      <td>-</td>\n      <td>-</td>\n      <td>-</td>\n      <td>1.0</td>\n      <td>-</td>\n      <td>-</td>\n    </tr>\n    <tr>\n      <th>00017F6C780F948ED3D61F8312618978</th>\n      <td>-</td>\n      <td>-</td>\n      <td>-</td>\n      <td>-</td>\n      <td>-</td>\n      <td>-</td>\n      <td>-</td>\n      <td>-</td>\n      <td>-</td>\n      <td>-</td>\n      <td>-</td>\n      <td>-</td>\n      <td>-</td>\n      <td>1.0</td>\n    </tr>\n    <tr>\n      <th>000190215E00C3D5AF4E421CB2468C65</th>\n      <td>-</td>\n      <td>-</td>\n      <td>-</td>\n      <td>-</td>\n      <td>-</td>\n      <td>-</td>\n      <td>-</td>\n      <td>-</td>\n      <td>-</td>\n      <td>-</td>\n      <td>-</td>\n      <td>-</td>\n      <td>-</td>\n      <td>1.0</td>\n    </tr>\n    <tr>\n      <th>...</th>\n      <td>...</td>\n      <td>...</td>\n      <td>...</td>\n      <td>...</td>\n      <td>...</td>\n      <td>...</td>\n      <td>...</td>\n      <td>...</td>\n      <td>...</td>\n      <td>...</td>\n      <td>...</td>\n      <td>...</td>\n      <td>...</td>\n      <td>...</td>\n    </tr>\n    <tr>\n      <th>FFFF8E415120D1B5424786E1085D12BD</th>\n      <td>-</td>\n      <td>-</td>\n      <td>-</td>\n      <td>-</td>\n      <td>-</td>\n      <td>-</td>\n      <td>-</td>\n      <td>-</td>\n      <td>-</td>\n      <td>-</td>\n      <td>-</td>\n      <td>-</td>\n      <td>-</td>\n      <td>1.0</td>\n    </tr>\n    <tr>\n      <th>FFFFE3EC68D8E06C3CE530F84D2E30FF</th>\n      <td>-</td>\n      <td>-</td>\n      <td>-</td>\n      <td>-</td>\n      <td>-</td>\n      <td>-</td>\n      <td>-</td>\n      <td>-</td>\n      <td>-</td>\n      <td>-</td>\n      <td>-</td>\n      <td>-</td>\n      <td>-</td>\n      <td>1.0</td>\n    </tr>\n    <tr>\n      <th>n of not exist values</th>\n      <td>75603</td>\n      <td>39</td>\n      <td>75554</td>\n      <td>65800</td>\n      <td>45502</td>\n      <td>45517</td>\n      <td>52316</td>\n      <td>71222</td>\n      <td>92009</td>\n      <td>98832</td>\n      <td>23754</td>\n      <td>23714</td>\n      <td>0</td>\n      <td>0</td>\n    </tr>\n    <tr>\n      <th>p of not exist values</th>\n      <td>75.603</td>\n      <td>0.039</td>\n      <td>75.554</td>\n      <td>65.8</td>\n      <td>45.502</td>\n      <td>45.517</td>\n      <td>52.316</td>\n      <td>71.222</td>\n      <td>92.009</td>\n      <td>98.832</td>\n      <td>23.754</td>\n      <td>23.714</td>\n      <td>0.0</td>\n      <td>0.0</td>\n    </tr>\n    <tr>\n      <th>n of unique values</th>\n      <td>8</td>\n      <td>3</td>\n      <td>10</td>\n      <td>4769</td>\n      <td>21</td>\n      <td>144</td>\n      <td>698</td>\n      <td>909</td>\n      <td>441</td>\n      <td>88</td>\n      <td>16</td>\n      <td>45446</td>\n      <td>183</td>\n      <td>96766</td>\n    </tr>\n  </tbody>\n</table>\n<p>149205 rows × 14 columns</p>\n</div>"
     },
     "execution_count": 30,
     "metadata": {},
     "output_type": "execute_result"
    }
   ],
   "source": [
    "## Check Amin\n",
    "data_frame = df_dropped\n",
    "\n",
    "N, D = data_frame.shape"
   ]
  },
  {
   "cell_type": "markdown",
   "source": [
    "> > #### Drop Columns"
   ],
   "metadata": {
    "collapsed": false
   }
  },
  {
   "cell_type": "code",
   "execution_count": null,
   "outputs": [],
   "source": [
    "## Date Extracting\n",
    "data_frame['click_timestamp'] = pd.to_datetime(data_frame['click_timestamp'])\n",
    "\n",
    "data_frame['day'] = data_frame['click_timestamp'].dt.day\n",
    "data_frame['hour'] = data_frame['click_timestamp'].dt.hour\n",
    "\n",
    "data_frame.drop(\n",
    "    [\n",
    "        # 'product_category(1)',\n",
    "        # 'product_category(2)',\n",
    "        # 'product_category(3)',\n",
    "        'product_category(4)',\n",
    "        'product_category(5)',\n",
    "        'product_category(6)',\n",
    "\n",
    "        # Remove After Date Extraction\n",
    "        'click_timestamp',\n",
    "\n",
    "        # Removing Redundant Columns\n",
    "        'product_category(7)',\n",
    "        'product_title',\n",
    "        'audience_id',\n",
    "        'product_id',\n",
    "        'user_id',\n",
    "\n",
    "        # Conflict in Doc and Dataset\n",
    "        # There are clicks that have Sale = 1 but their time_delay_for_conversion\tis -1\n",
    "        # So we assume that data in rows = index which is shown above, have\n",
    "        # inconsistent value for their time_delay_for_conversion field.\n",
    "        # Finally we drop this feature according to definition in the Doc.\n",
    "        'SalesAmountInEuro',\n",
    "        # 'time_delay_for_conversion',\n",
    "    ],\n",
    "    axis=1, inplace=True\n",
    ")\n"
   ],
   "metadata": {
    "collapsed": false,
    "pycharm": {
     "name": "#%%\n"
    }
   }
  },
  {
   "cell_type": "markdown",
   "source": [
    "> > #### Standard Missing Values with ```np.nan``` and ```pd.NA```"
   ],
   "metadata": {
    "collapsed": false
   }
  },
  {
   "cell_type": "code",
   "execution_count": null,
   "outputs": [],
   "source": [
    "for i in range(3):\n",
    "    data_frame[f'product_category({i + 1})'].replace('-1', 'Not Exist', inplace=True)\n",
    "\n",
    "numerical_columns, categorical_columns = get_numerical_categorical_columns(data_frame)\n",
    "\n",
    "data_frame[numerical_columns] = data_frame[numerical_columns].apply(lambda col: col.replace({-1: np.nan}))\n",
    "data_frame['product_price'] = data_frame['product_price'].replace({0: np.nan})\n",
    "data_frame[categorical_columns] = data_frame[categorical_columns].apply(lambda col: col.replace({'-1': np.nan}))"
   ],
   "metadata": {
    "collapsed": false,
    "pycharm": {
     "name": "#%%\n"
    }
   }
  },
  {
   "cell_type": "markdown",
   "source": [
    "> > #### Imputation\n",
    ">"
   ],
   "metadata": {
    "collapsed": false
   }
  },
  {
   "cell_type": "code",
   "execution_count": null,
   "outputs": [],
   "source": [
    "## Categorical Columns Imputation\n",
    "categorical_column_to_encoder = {}\n",
    "\n",
    "# Categorical Columns Encode\n",
    "for c_column in categorical_columns:\n",
    "    le = LabelEncoder()\n",
    "    encoded: pd.Series = le.fit_transform(data_frame.loc[~data_frame[c_column].isnull(), c_column])\n",
    "    data_frame.loc[~data_frame[c_column].isnull(), c_column] = encoded\n",
    "    categorical_column_to_encoder[c_column] = le\n",
    "\n",
    "to_impute_columns = categorical_columns\n",
    "\n",
    "initial_strategy = 'most_frequent'\n",
    "\n",
    "estimator = KNeighborsClassifier(n_neighbors=9)\n",
    "imputer: IterativeImputer = IterativeImputer(random_state=0,\n",
    "                                             estimator=estimator,\n",
    "                                             initial_strategy=initial_strategy,\n",
    "                                             max_iter=10,\n",
    "                                             verbose=2)\n",
    "\n",
    "imputed = imputer.fit_transform(data_frame[to_impute_columns])\n",
    "data_frame.loc[:, to_impute_columns] = imputed\n",
    "\n",
    "## Numeric Columns Imputation\n",
    "\n",
    "to_impute_columns = to_impute_columns.append(numerical_columns)\n",
    "\n",
    "initial_strategy = 'median'\n",
    "\n",
    "estimator = ExtraTreesRegressor(n_estimators=10, random_state=0)\n",
    "imputer: IterativeImputer = IterativeImputer(random_state=0,\n",
    "                                             estimator=estimator,\n",
    "                                             initial_strategy=initial_strategy,\n",
    "                                             max_iter=20,\n",
    "                                             verbose=2)\n",
    "\n",
    "imputed = imputer.fit_transform(data_frame[to_impute_columns])\n",
    "data_frame.loc[:, to_impute_columns] = imputed\n",
    "\n",
    "pd.DataFrame.to_csv(data_frame, '../data/imputed_data_set.csv')"
   ],
   "metadata": {
    "collapsed": false,
    "pycharm": {
     "name": "#%%\n"
    }
   }
  },
  {
   "cell_type": "code",
   "execution_count": 31,
   "metadata": {
    "pycharm": {
     "name": "#%%\n"
    }
   },
   "outputs": [
    {
     "data": {
      "text/plain": "       Sale  nb_clicks_1week  product_price                 product_age_group  \\\n0         0             21.3            0.0                              <NA>   \n1         0             34.6            0.0                              <NA>   \n2         0            477.4            0.0  4C90FD52FC53D2C1C205844CB69575AB   \n3         0             40.0            0.0                              <NA>   \n4         0           1064.0            0.0  4C90FD52FC53D2C1C205844CB69575AB   \n...     ...              ...            ...                               ...   \n99995     0             25.0            0.0                              <NA>   \n99996     0              0.2            0.0                              <NA>   \n99997     1            169.0            3.0                              <NA>   \n99998     0             30.0            0.0                              <NA>   \n99999     0            182.0            0.0  4C90FD52FC53D2C1C205844CB69575AB   \n\n                            device_type                    product_gender  \\\n0      7E56C27BFF0305E788DA55A029EC4988                              <NA>   \n1      7E56C27BFF0305E788DA55A029EC4988                              <NA>   \n2      FF2C446555E3822B0E0FC3406116E86D  C45A9AC6D102ACAEEDF0D6F78636D84A   \n3      D7D1FB49049702BF6338894757E0D959                              <NA>   \n4      7E56C27BFF0305E788DA55A029EC4988  1B491180398E2F0390E6A588B3BCE291   \n...                                 ...                               ...   \n99995  7E56C27BFF0305E788DA55A029EC4988                              <NA>   \n99996  D7D1FB49049702BF6338894757E0D959                              <NA>   \n99997  7E56C27BFF0305E788DA55A029EC4988                              <NA>   \n99998  D7D1FB49049702BF6338894757E0D959                              <NA>   \n99999  7E56C27BFF0305E788DA55A029EC4988  A5D15FC386510762EC0DDFF54ABE6F94   \n\n                          product_brand               product_category(1)  \\\n0                                  <NA>                              <NA>   \n1                                  <NA>                              <NA>   \n2      3DF2BEDE6A8FDFA7F97B97FFF6EF38CC  033E492229C2222EFAA16EE8A6462D8B   \n3                                  <NA>                              <NA>   \n4      9B57D98465FD7D5AF39448DC29E95DC8  13C26D10258053889D75D9B9CA922EC7   \n...                                 ...                               ...   \n99995                              <NA>                              <NA>   \n99996                              <NA>                              <NA>   \n99997  FB4BF9BACFF8DA0ACD2E596ABE1FCFB4  B4B45C6CE5FC4DE45AB02974D8849DBD   \n99998                              <NA>  62D6A49514020FA0B2E434DB0B506005   \n99999                              <NA>  62D6A49514020FA0B2E434DB0B506005   \n\n                    product_category(2)               product_category(3)  \\\n0                                  <NA>                              <NA>   \n1                                  <NA>                              <NA>   \n2      CD599E5A946D00A81A875E085F7EF1E8                              <NA>   \n3                                  <NA>                              <NA>   \n4      346AC0DECB71FFDC9114236B419D7814  1E629AECC2FB9BEF43331CBE8F2D7C08   \n...                                 ...                               ...   \n99995                              <NA>                              <NA>   \n99996                              <NA>                              <NA>   \n99997  A78952B21B4165ADA2189AE66887E2F1  369B6439F3366A8FCF39ECB292FE5D5B   \n99998  41DF6386116137A19E7DBC07CE44C95A  0C794498732FC4833A4B7F29F8F072E3   \n99999  50FF54E71F635597F839D2428054DC0C  E024AD4AAD0BFC3DBC319351B1DA0A0A   \n\n                    product_category(4) product_category(5)  \\\n0                                  <NA>                <NA>   \n1                                  <NA>                <NA>   \n2                                  <NA>                <NA>   \n3                                  <NA>                <NA>   \n4      341C9BD18A3277E6B104CAFC177DE796                <NA>   \n...                                 ...                 ...   \n99995                              <NA>                <NA>   \n99996                              <NA>                <NA>   \n99997  1DD0728F072BF6087158DA849B46E55C                <NA>   \n99998                              <NA>                <NA>   \n99999  9DC12A933AA52AD41024118F78FBB8A7                <NA>   \n\n      product_category(6)                   product_country  \\\n0                    <NA>  57A1D462A03BD076E029CF9310C11FC5   \n1                    <NA>  57A1D462A03BD076E029CF9310C11FC5   \n2                    <NA>  2AC62132FBCFA093B9426894A4BC6278   \n3                    <NA>  57A1D462A03BD076E029CF9310C11FC5   \n4                    <NA>  989EEF92F2A525DD896557425EA7C4C7   \n...                   ...                               ...   \n99995                <NA>                              <NA>   \n99996                <NA>                              <NA>   \n99997                <NA>  2AC62132FBCFA093B9426894A4BC6278   \n99998                <NA>  57A1D462A03BD076E029CF9310C11FC5   \n99999                <NA>  989EEF92F2A525DD896557425EA7C4C7   \n\n                             product_id                        partner_id  \\\n0      B69E439E41E0BEAD764ABF16D7FD96C9  E3DDEB04F8AFF944B11943BB57D2F620   \n1      404D3D9D03297504F3509032DCFA02F0  E3DDEB04F8AFF944B11943BB57D2F620   \n2      B09E51338E0EED59C5A859B13631C370  12E43E51784BDE3CB9E0EF6310A7D5C5   \n3      080614393A57816D7A655695E2DBE728  E3DDEB04F8AFF944B11943BB57D2F620   \n4      350271BAFD7C7AAF6FB1424CF3DD4827  F0FD783189F55BAFC331AD347EAE6863   \n...                                 ...                               ...   \n99995                              <NA>  9F30550A2589106D327B2F7C829CA250   \n99996                              <NA>  98594F28C91322F1DAF20DF86F3F6D8A   \n99997  6D156288298F6AD8D557F4AB5D5A0837  9D8E4D89210B822B2060852D2DD143FE   \n99998  DCC8F601DF76439F1B1D68E51AA79475  E3DDEB04F8AFF944B11943BB57D2F620   \n99999  6F7BE383E48DCBA647DE5D1138FB162D  6CCBF9BF3B87306C95BD5CD15F4CD324   \n\n                                user_id  day  hour  \n0      5E2C678F6586B67F61A377E1534E01FC    4     4  \n1      E8247702C0DD294E0AE6B5B5E2F9E810    4     1  \n2      9FD001258907F541D497040C64383696    4    16  \n3      225741ACF2DBB2E5948268F5D5D352E6    3    20  \n4      160A90377E54124D0BD31DB6735F0B33    3    20  \n...                                 ...  ...   ...  \n99995  648D3981019554765DDA9397BD7D03BC    3    20  \n99996  4EA2BA87F29B58C10C746F04B0447F4B    3    17  \n99997  B40B9949419CDDF3873026B17BFBDB20    4     8  \n99998  5BD2C5F5F2396CDC662549BD604CCE29    4     3  \n99999  69FFC878B94B51CBFF8741EA498D2229    4     8  \n\n[100000 rows x 19 columns]",
      "text/html": "<div>\n<style scoped>\n    .dataframe tbody tr th:only-of-type {\n        vertical-align: middle;\n    }\n\n    .dataframe tbody tr th {\n        vertical-align: top;\n    }\n\n    .dataframe thead th {\n        text-align: right;\n    }\n</style>\n<table border=\"1\" class=\"dataframe\">\n  <thead>\n    <tr style=\"text-align: right;\">\n      <th></th>\n      <th>Sale</th>\n      <th>nb_clicks_1week</th>\n      <th>product_price</th>\n      <th>product_age_group</th>\n      <th>device_type</th>\n      <th>product_gender</th>\n      <th>product_brand</th>\n      <th>product_category(1)</th>\n      <th>product_category(2)</th>\n      <th>product_category(3)</th>\n      <th>product_category(4)</th>\n      <th>product_category(5)</th>\n      <th>product_category(6)</th>\n      <th>product_country</th>\n      <th>product_id</th>\n      <th>partner_id</th>\n      <th>user_id</th>\n      <th>day</th>\n      <th>hour</th>\n    </tr>\n  </thead>\n  <tbody>\n    <tr>\n      <th>0</th>\n      <td>0</td>\n      <td>21.3</td>\n      <td>0.0</td>\n      <td>&lt;NA&gt;</td>\n      <td>7E56C27BFF0305E788DA55A029EC4988</td>\n      <td>&lt;NA&gt;</td>\n      <td>&lt;NA&gt;</td>\n      <td>&lt;NA&gt;</td>\n      <td>&lt;NA&gt;</td>\n      <td>&lt;NA&gt;</td>\n      <td>&lt;NA&gt;</td>\n      <td>&lt;NA&gt;</td>\n      <td>&lt;NA&gt;</td>\n      <td>57A1D462A03BD076E029CF9310C11FC5</td>\n      <td>B69E439E41E0BEAD764ABF16D7FD96C9</td>\n      <td>E3DDEB04F8AFF944B11943BB57D2F620</td>\n      <td>5E2C678F6586B67F61A377E1534E01FC</td>\n      <td>4</td>\n      <td>4</td>\n    </tr>\n    <tr>\n      <th>1</th>\n      <td>0</td>\n      <td>34.6</td>\n      <td>0.0</td>\n      <td>&lt;NA&gt;</td>\n      <td>7E56C27BFF0305E788DA55A029EC4988</td>\n      <td>&lt;NA&gt;</td>\n      <td>&lt;NA&gt;</td>\n      <td>&lt;NA&gt;</td>\n      <td>&lt;NA&gt;</td>\n      <td>&lt;NA&gt;</td>\n      <td>&lt;NA&gt;</td>\n      <td>&lt;NA&gt;</td>\n      <td>&lt;NA&gt;</td>\n      <td>57A1D462A03BD076E029CF9310C11FC5</td>\n      <td>404D3D9D03297504F3509032DCFA02F0</td>\n      <td>E3DDEB04F8AFF944B11943BB57D2F620</td>\n      <td>E8247702C0DD294E0AE6B5B5E2F9E810</td>\n      <td>4</td>\n      <td>1</td>\n    </tr>\n    <tr>\n      <th>2</th>\n      <td>0</td>\n      <td>477.4</td>\n      <td>0.0</td>\n      <td>4C90FD52FC53D2C1C205844CB69575AB</td>\n      <td>FF2C446555E3822B0E0FC3406116E86D</td>\n      <td>C45A9AC6D102ACAEEDF0D6F78636D84A</td>\n      <td>3DF2BEDE6A8FDFA7F97B97FFF6EF38CC</td>\n      <td>033E492229C2222EFAA16EE8A6462D8B</td>\n      <td>CD599E5A946D00A81A875E085F7EF1E8</td>\n      <td>&lt;NA&gt;</td>\n      <td>&lt;NA&gt;</td>\n      <td>&lt;NA&gt;</td>\n      <td>&lt;NA&gt;</td>\n      <td>2AC62132FBCFA093B9426894A4BC6278</td>\n      <td>B09E51338E0EED59C5A859B13631C370</td>\n      <td>12E43E51784BDE3CB9E0EF6310A7D5C5</td>\n      <td>9FD001258907F541D497040C64383696</td>\n      <td>4</td>\n      <td>16</td>\n    </tr>\n    <tr>\n      <th>3</th>\n      <td>0</td>\n      <td>40.0</td>\n      <td>0.0</td>\n      <td>&lt;NA&gt;</td>\n      <td>D7D1FB49049702BF6338894757E0D959</td>\n      <td>&lt;NA&gt;</td>\n      <td>&lt;NA&gt;</td>\n      <td>&lt;NA&gt;</td>\n      <td>&lt;NA&gt;</td>\n      <td>&lt;NA&gt;</td>\n      <td>&lt;NA&gt;</td>\n      <td>&lt;NA&gt;</td>\n      <td>&lt;NA&gt;</td>\n      <td>57A1D462A03BD076E029CF9310C11FC5</td>\n      <td>080614393A57816D7A655695E2DBE728</td>\n      <td>E3DDEB04F8AFF944B11943BB57D2F620</td>\n      <td>225741ACF2DBB2E5948268F5D5D352E6</td>\n      <td>3</td>\n      <td>20</td>\n    </tr>\n    <tr>\n      <th>4</th>\n      <td>0</td>\n      <td>1064.0</td>\n      <td>0.0</td>\n      <td>4C90FD52FC53D2C1C205844CB69575AB</td>\n      <td>7E56C27BFF0305E788DA55A029EC4988</td>\n      <td>1B491180398E2F0390E6A588B3BCE291</td>\n      <td>9B57D98465FD7D5AF39448DC29E95DC8</td>\n      <td>13C26D10258053889D75D9B9CA922EC7</td>\n      <td>346AC0DECB71FFDC9114236B419D7814</td>\n      <td>1E629AECC2FB9BEF43331CBE8F2D7C08</td>\n      <td>341C9BD18A3277E6B104CAFC177DE796</td>\n      <td>&lt;NA&gt;</td>\n      <td>&lt;NA&gt;</td>\n      <td>989EEF92F2A525DD896557425EA7C4C7</td>\n      <td>350271BAFD7C7AAF6FB1424CF3DD4827</td>\n      <td>F0FD783189F55BAFC331AD347EAE6863</td>\n      <td>160A90377E54124D0BD31DB6735F0B33</td>\n      <td>3</td>\n      <td>20</td>\n    </tr>\n    <tr>\n      <th>...</th>\n      <td>...</td>\n      <td>...</td>\n      <td>...</td>\n      <td>...</td>\n      <td>...</td>\n      <td>...</td>\n      <td>...</td>\n      <td>...</td>\n      <td>...</td>\n      <td>...</td>\n      <td>...</td>\n      <td>...</td>\n      <td>...</td>\n      <td>...</td>\n      <td>...</td>\n      <td>...</td>\n      <td>...</td>\n      <td>...</td>\n      <td>...</td>\n    </tr>\n    <tr>\n      <th>99995</th>\n      <td>0</td>\n      <td>25.0</td>\n      <td>0.0</td>\n      <td>&lt;NA&gt;</td>\n      <td>7E56C27BFF0305E788DA55A029EC4988</td>\n      <td>&lt;NA&gt;</td>\n      <td>&lt;NA&gt;</td>\n      <td>&lt;NA&gt;</td>\n      <td>&lt;NA&gt;</td>\n      <td>&lt;NA&gt;</td>\n      <td>&lt;NA&gt;</td>\n      <td>&lt;NA&gt;</td>\n      <td>&lt;NA&gt;</td>\n      <td>&lt;NA&gt;</td>\n      <td>&lt;NA&gt;</td>\n      <td>9F30550A2589106D327B2F7C829CA250</td>\n      <td>648D3981019554765DDA9397BD7D03BC</td>\n      <td>3</td>\n      <td>20</td>\n    </tr>\n    <tr>\n      <th>99996</th>\n      <td>0</td>\n      <td>0.2</td>\n      <td>0.0</td>\n      <td>&lt;NA&gt;</td>\n      <td>D7D1FB49049702BF6338894757E0D959</td>\n      <td>&lt;NA&gt;</td>\n      <td>&lt;NA&gt;</td>\n      <td>&lt;NA&gt;</td>\n      <td>&lt;NA&gt;</td>\n      <td>&lt;NA&gt;</td>\n      <td>&lt;NA&gt;</td>\n      <td>&lt;NA&gt;</td>\n      <td>&lt;NA&gt;</td>\n      <td>&lt;NA&gt;</td>\n      <td>&lt;NA&gt;</td>\n      <td>98594F28C91322F1DAF20DF86F3F6D8A</td>\n      <td>4EA2BA87F29B58C10C746F04B0447F4B</td>\n      <td>3</td>\n      <td>17</td>\n    </tr>\n    <tr>\n      <th>99997</th>\n      <td>1</td>\n      <td>169.0</td>\n      <td>3.0</td>\n      <td>&lt;NA&gt;</td>\n      <td>7E56C27BFF0305E788DA55A029EC4988</td>\n      <td>&lt;NA&gt;</td>\n      <td>FB4BF9BACFF8DA0ACD2E596ABE1FCFB4</td>\n      <td>B4B45C6CE5FC4DE45AB02974D8849DBD</td>\n      <td>A78952B21B4165ADA2189AE66887E2F1</td>\n      <td>369B6439F3366A8FCF39ECB292FE5D5B</td>\n      <td>1DD0728F072BF6087158DA849B46E55C</td>\n      <td>&lt;NA&gt;</td>\n      <td>&lt;NA&gt;</td>\n      <td>2AC62132FBCFA093B9426894A4BC6278</td>\n      <td>6D156288298F6AD8D557F4AB5D5A0837</td>\n      <td>9D8E4D89210B822B2060852D2DD143FE</td>\n      <td>B40B9949419CDDF3873026B17BFBDB20</td>\n      <td>4</td>\n      <td>8</td>\n    </tr>\n    <tr>\n      <th>99998</th>\n      <td>0</td>\n      <td>30.0</td>\n      <td>0.0</td>\n      <td>&lt;NA&gt;</td>\n      <td>D7D1FB49049702BF6338894757E0D959</td>\n      <td>&lt;NA&gt;</td>\n      <td>&lt;NA&gt;</td>\n      <td>62D6A49514020FA0B2E434DB0B506005</td>\n      <td>41DF6386116137A19E7DBC07CE44C95A</td>\n      <td>0C794498732FC4833A4B7F29F8F072E3</td>\n      <td>&lt;NA&gt;</td>\n      <td>&lt;NA&gt;</td>\n      <td>&lt;NA&gt;</td>\n      <td>57A1D462A03BD076E029CF9310C11FC5</td>\n      <td>DCC8F601DF76439F1B1D68E51AA79475</td>\n      <td>E3DDEB04F8AFF944B11943BB57D2F620</td>\n      <td>5BD2C5F5F2396CDC662549BD604CCE29</td>\n      <td>4</td>\n      <td>3</td>\n    </tr>\n    <tr>\n      <th>99999</th>\n      <td>0</td>\n      <td>182.0</td>\n      <td>0.0</td>\n      <td>4C90FD52FC53D2C1C205844CB69575AB</td>\n      <td>7E56C27BFF0305E788DA55A029EC4988</td>\n      <td>A5D15FC386510762EC0DDFF54ABE6F94</td>\n      <td>&lt;NA&gt;</td>\n      <td>62D6A49514020FA0B2E434DB0B506005</td>\n      <td>50FF54E71F635597F839D2428054DC0C</td>\n      <td>E024AD4AAD0BFC3DBC319351B1DA0A0A</td>\n      <td>9DC12A933AA52AD41024118F78FBB8A7</td>\n      <td>&lt;NA&gt;</td>\n      <td>&lt;NA&gt;</td>\n      <td>989EEF92F2A525DD896557425EA7C4C7</td>\n      <td>6F7BE383E48DCBA647DE5D1138FB162D</td>\n      <td>6CCBF9BF3B87306C95BD5CD15F4CD324</td>\n      <td>69FFC878B94B51CBFF8741EA498D2229</td>\n      <td>4</td>\n      <td>8</td>\n    </tr>\n  </tbody>\n</table>\n<p>100000 rows × 19 columns</p>\n</div>"
     },
     "execution_count": 31,
     "metadata": {},
     "output_type": "execute_result"
    }
   ],
   "source": []
  }
 ],
 "metadata": {
  "colab": {
   "name": "ML_Project.ipynb",
   "provenance": []
  },
  "kernelspec": {
   "display_name": "Python 3 (ipykernel)",
   "language": "python",
   "name": "python3"
  },
  "language_info": {
   "codemirror_mode": {
    "name": "ipython",
    "version": 3
   },
   "file_extension": ".py",
   "mimetype": "text/x-python",
   "name": "python",
   "nbconvert_exporter": "python",
   "pygments_lexer": "ipython3",
   "version": "3.8.12"
  }
 },
 "nbformat": 4,
 "nbformat_minor": 1
}